{
 "cells": [
  {
   "cell_type": "code",
   "execution_count": 1,
   "metadata": {},
   "outputs": [
    {
     "name": "stderr",
     "output_type": "stream",
     "text": [
      "/home/owerbat/miniconda3/envs/eeg/lib/python3.9/site-packages/tqdm/auto.py:22: TqdmWarning: IProgress not found. Please update jupyter and ipywidgets. See https://ipywidgets.readthedocs.io/en/stable/user_install.html\n",
      "  from .autonotebook import tqdm as notebook_tqdm\n"
     ]
    }
   ],
   "source": [
    "import os\n",
    "import numpy as np\n",
    "import pandas as pd\n",
    "import torch\n",
    "import torch.nn as nn\n",
    "from sklearn.model_selection import train_test_split\n",
    "\n",
    "from eegsc.ml.gru import GRUNet, train_gru\n",
    "from eegsc.preprocessing.filters import BandPassFilter\n",
    "from eegsc.utils.io import read_raw\n",
    "from eegsc.utils.path import get_data_path\n",
    "from eegsc.utils.experiments import create_sequence_dataset"
   ]
  },
  {
   "cell_type": "code",
   "execution_count": 2,
   "metadata": {},
   "outputs": [],
   "source": [
    "data = read_raw(os.path.join(get_data_path(), 'raw', '1st_Day.mat'),\n",
    "                # data_types=['left_real', 'right_real',\n",
    "                #             'left_im1', 'right_im1',\n",
    "                #             'left_im2', 'right_im2',\n",
    "                #             'left_quasi', 'right_quasi'])\n",
    "                # data_types=['left_quasi', 'right_quasi'])\n",
    "                # data_types=['left_im2', 'right_im2'])\n",
    "                # data_types=['left_im1', 'right_im1'])\n",
    "                data_types=['left_real', 'right_real'])"
   ]
  },
  {
   "cell_type": "code",
   "execution_count": 3,
   "metadata": {},
   "outputs": [
    {
     "data": {
      "text/plain": [
       "((569, 32, 10095), (569,))"
      ]
     },
     "execution_count": 3,
     "metadata": {},
     "output_type": "execute_result"
    }
   ],
   "source": [
    "bandpass_filter = BandPassFilter()\n",
    "seq_data, labels = create_sequence_dataset(data, bandpass_filter)\n",
    "seq_data.shape, labels.shape"
   ]
  },
  {
   "cell_type": "code",
   "execution_count": 4,
   "metadata": {},
   "outputs": [
    {
     "data": {
      "text/plain": [
       "((455, 32, 10095), (114, 32, 10095))"
      ]
     },
     "execution_count": 4,
     "metadata": {},
     "output_type": "execute_result"
    }
   ],
   "source": [
    "x_train, x_test, y_train, y_test = train_test_split(\n",
    "    seq_data, labels, test_size=0.2, random_state=0)\n",
    "x_train.shape, x_test.shape"
   ]
  },
  {
   "cell_type": "code",
   "execution_count": 5,
   "metadata": {},
   "outputs": [],
   "source": [
    "model = GRUNet(input_size=x_train.shape[1],\n",
    "               hidden_size=128,\n",
    "               n_layers=1,\n",
    "               n_classes=np.unique(labels).shape[0])"
   ]
  },
  {
   "cell_type": "code",
   "execution_count": 6,
   "metadata": {},
   "outputs": [
    {
     "name": "stdout",
     "output_type": "stream",
     "text": [
      "Epoch 1 | loss = 317.14584171772003, accuracy = 0.46593406593406594\n"
     ]
    }
   ],
   "source": [
    "criterion = nn.NLLLoss()\n",
    "optimizer = torch.optim.Adam(model.parameters(), lr=.001)\n",
    "model = train_gru(model, x_train, y_train, criterion, optimizer, n_epochs=1)"
   ]
  },
  {
   "cell_type": "code",
   "execution_count": null,
   "metadata": {},
   "outputs": [],
   "source": []
  }
 ],
 "metadata": {
  "kernelspec": {
   "display_name": "Python 3.9.13 ('eeg')",
   "language": "python",
   "name": "python3"
  },
  "language_info": {
   "codemirror_mode": {
    "name": "ipython",
    "version": 3
   },
   "file_extension": ".py",
   "mimetype": "text/x-python",
   "name": "python",
   "nbconvert_exporter": "python",
   "pygments_lexer": "ipython3",
   "version": "3.9.13"
  },
  "orig_nbformat": 4,
  "vscode": {
   "interpreter": {
    "hash": "10fb5c1f66ad1bf860997406b852de75106c48b31ebb11acbccf845c0022213a"
   }
  }
 },
 "nbformat": 4,
 "nbformat_minor": 2
}
