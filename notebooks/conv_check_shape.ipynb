{
 "cells": [
  {
   "cell_type": "code",
   "execution_count": 1,
   "metadata": {},
   "outputs": [
    {
     "name": "stderr",
     "output_type": "stream",
     "text": [
      "c:\\Users\\nikti\\miniconda3\\envs\\eeg\\lib\\site-packages\\tqdm\\auto.py:22: TqdmWarning: IProgress not found. Please update jupyter and ipywidgets. See https://ipywidgets.readthedocs.io/en/stable/user_install.html\n",
      "  from .autonotebook import tqdm as notebook_tqdm\n"
     ]
    }
   ],
   "source": [
    "from eegsc.ml.conv import ConvUnit, ConvNet"
   ]
  },
  {
   "cell_type": "code",
   "execution_count": 2,
   "metadata": {},
   "outputs": [
    {
     "data": {
      "text/plain": [
       "(4, 4)"
      ]
     },
     "execution_count": 2,
     "metadata": {},
     "output_type": "execute_result"
    }
   ],
   "source": [
    "conv = ConvNet(input_shape=(32, 5095),\n",
    "               n_classes=2,\n",
    "               kernel_size=5)\n",
    "conv.conv6.out_height, conv.conv6.out_width"
   ]
  },
  {
   "cell_type": "code",
   "execution_count": 3,
   "metadata": {},
   "outputs": [
    {
     "name": "stdout",
     "output_type": "stream",
     "text": [
      "32 1699\n",
      "32 567\n",
      "30 283\n",
      "30 95\n",
      "30 32\n",
      "14 15\n",
      "7 8\n",
      "4 4\n"
     ]
    }
   ],
   "source": [
    "print(conv.conv1.out_height, conv.conv1.out_width)\n",
    "print(conv.conv2.out_height, conv.conv2.out_width)\n",
    "print(conv.pool1.out_height, conv.pool1.out_width)\n",
    "print(conv.conv3.out_height, conv.conv3.out_width)\n",
    "print(conv.conv4.out_height, conv.conv4.out_width)\n",
    "print(conv.pool2.out_height, conv.pool2.out_width)\n",
    "print(conv.conv5.out_height, conv.conv5.out_width)\n",
    "print(conv.conv6.out_height, conv.conv6.out_width)"
   ]
  },
  {
   "cell_type": "code",
   "execution_count": 19,
   "metadata": {},
   "outputs": [
    {
     "data": {
      "text/plain": [
       "(32, 1699)"
      ]
     },
     "execution_count": 19,
     "metadata": {},
     "output_type": "execute_result"
    }
   ],
   "source": [
    "unit1 = ConvUnit(in_channels=6,\n",
    "                 out_channels=6,\n",
    "                 height=32,\n",
    "                 width=5095, # 10095\n",
    "                 kernel_size=5,\n",
    "                 stride=(1, 3),\n",
    "                 padding=3)\n",
    "unit1.out_height, unit1.out_width"
   ]
  },
  {
   "cell_type": "code",
   "execution_count": 30,
   "metadata": {},
   "outputs": [
    {
     "name": "stdout",
     "output_type": "stream",
     "text": [
      "2 32 567\n",
      "3 32 189\n",
      "4 32 63\n"
     ]
    }
   ],
   "source": [
    "out_height, out_width = unit1.out_height, unit1.out_width\n",
    "\n",
    "start = 2\n",
    "n1 = 3\n",
    "for i in range(start, start + n1):\n",
    "    unit2 = ConvUnit(in_channels=6,\n",
    "                     out_channels=6,\n",
    "                     height=out_height,\n",
    "                     width=out_width,\n",
    "                     kernel_size=5,\n",
    "                     stride=(1, 3),\n",
    "                     padding=3)\n",
    "    out_height, out_width = unit2.out_height, unit2.out_width\n",
    "    print(i, out_height, out_width)"
   ]
  },
  {
   "cell_type": "code",
   "execution_count": 31,
   "metadata": {},
   "outputs": [
    {
     "name": "stdout",
     "output_type": "stream",
     "text": [
      "5 32 32\n"
     ]
    }
   ],
   "source": [
    "start += n1\n",
    "n2 = 1\n",
    "for i in range(start, start + n2):\n",
    "    unit2 = ConvUnit(in_channels=6,\n",
    "                     out_channels=6,\n",
    "                     height=out_height,\n",
    "                     width=out_width,\n",
    "                     kernel_size=5,\n",
    "                     stride=(1, 2),\n",
    "                     padding=3)\n",
    "    out_height, out_width = unit2.out_height, unit2.out_width\n",
    "    print(i, out_height, out_width)"
   ]
  },
  {
   "cell_type": "code",
   "execution_count": 32,
   "metadata": {},
   "outputs": [
    {
     "name": "stdout",
     "output_type": "stream",
     "text": [
      "6 16 16\n",
      "7 8 8\n",
      "8 4 4\n"
     ]
    }
   ],
   "source": [
    "start += n2\n",
    "n3 = 3\n",
    "for i in range(start, start + n3):\n",
    "    unit2 = ConvUnit(in_channels=6,\n",
    "                     out_channels=6,\n",
    "                     height=out_height,\n",
    "                     width=out_width,\n",
    "                     kernel_size=5,\n",
    "                     stride=(2, 2),\n",
    "                     padding=3)\n",
    "    out_height, out_width = unit2.out_height, unit2.out_width\n",
    "    print(i, out_height, out_width)"
   ]
  },
  {
   "cell_type": "code",
   "execution_count": null,
   "metadata": {},
   "outputs": [],
   "source": []
  },
  {
   "cell_type": "code",
   "execution_count": 40,
   "metadata": {},
   "outputs": [
    {
     "data": {
      "text/plain": [
       "(16, 16)"
      ]
     },
     "execution_count": 40,
     "metadata": {},
     "output_type": "execute_result"
    }
   ],
   "source": [
    "unit3 = ConvUnit(in_channels=6,\n",
    "                 out_channels=6,\n",
    "                 height=32,\n",
    "                 width=32, # 567 284 95\n",
    "                 kernel_size=3,\n",
    "                 stride=(2, 2),\n",
    "                 padding=2)\n",
    "unit3.out_height, unit3.out_width"
   ]
  },
  {
   "cell_type": "code",
   "execution_count": null,
   "metadata": {},
   "outputs": [],
   "source": []
  }
 ],
 "metadata": {
  "kernelspec": {
   "display_name": "Python 3.9.13 ('eeg')",
   "language": "python",
   "name": "python3"
  },
  "language_info": {
   "codemirror_mode": {
    "name": "ipython",
    "version": 3
   },
   "file_extension": ".py",
   "mimetype": "text/x-python",
   "name": "python",
   "nbconvert_exporter": "python",
   "pygments_lexer": "ipython3",
   "version": "3.9.13"
  },
  "orig_nbformat": 4,
  "vscode": {
   "interpreter": {
    "hash": "ee1821b0ec3d0fa9d83a2a15bb6a001b25e3359f1f3de2ffa35fb21fe200eb48"
   }
  }
 },
 "nbformat": 4,
 "nbformat_minor": 2
}
