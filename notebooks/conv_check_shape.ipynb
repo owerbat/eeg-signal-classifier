{
 "cells": [
  {
   "cell_type": "code",
   "execution_count": 2,
   "metadata": {},
   "outputs": [],
   "source": [
    "from eegsc.ml.conv import ConvUnit, PoolUnit, ConvNet"
   ]
  },
  {
   "cell_type": "code",
   "execution_count": 2,
   "metadata": {},
   "outputs": [
    {
     "data": {
      "text/plain": [
       "(4, 4)"
      ]
     },
     "execution_count": 2,
     "metadata": {},
     "output_type": "execute_result"
    }
   ],
   "source": [
    "conv = ConvNet(input_shape=(32, 5095),\n",
    "               n_classes=2,\n",
    "               kernel_size=5)\n",
    "conv.conv6.out_height, conv.conv6.out_width"
   ]
  },
  {
   "cell_type": "code",
   "execution_count": 3,
   "metadata": {},
   "outputs": [
    {
     "name": "stdout",
     "output_type": "stream",
     "text": [
      "32 1699\n",
      "32 567\n",
      "30 283\n",
      "30 95\n",
      "30 32\n",
      "14 15\n",
      "7 8\n",
      "4 4\n"
     ]
    }
   ],
   "source": [
    "print(conv.conv1.out_height, conv.conv1.out_width)\n",
    "print(conv.conv2.out_height, conv.conv2.out_width)\n",
    "print(conv.pool1.out_height, conv.pool1.out_width)\n",
    "print(conv.conv3.out_height, conv.conv3.out_width)\n",
    "print(conv.conv4.out_height, conv.conv4.out_width)\n",
    "print(conv.pool2.out_height, conv.pool2.out_width)\n",
    "print(conv.conv5.out_height, conv.conv5.out_width)\n",
    "print(conv.conv6.out_height, conv.conv6.out_width)"
   ]
  },
  {
   "cell_type": "code",
   "execution_count": null,
   "metadata": {},
   "outputs": [],
   "source": []
  },
  {
   "cell_type": "code",
   "execution_count": 19,
   "metadata": {},
   "outputs": [
    {
     "data": {
      "text/plain": [
       "(16, 1274)"
      ]
     },
     "execution_count": 19,
     "metadata": {},
     "output_type": "execute_result"
    }
   ],
   "source": [
    "conv1 = ConvUnit(in_channels=6,\n",
    "                 out_channels=12,\n",
    "                 height=32,\n",
    "                 width=5095, # 10095\n",
    "                 kernel_size=(5, 7),\n",
    "                 stride=(2, 4),\n",
    "                 padding=(2, 3))\n",
    "conv1.out_height, conv1.out_width"
   ]
  },
  {
   "cell_type": "code",
   "execution_count": 20,
   "metadata": {},
   "outputs": [
    {
     "data": {
      "text/plain": [
       "(16, 425)"
      ]
     },
     "execution_count": 20,
     "metadata": {},
     "output_type": "execute_result"
    }
   ],
   "source": [
    "pool1 = PoolUnit(height=conv1.out_height,\n",
    "                 width=conv1.out_width,\n",
    "                 kernel_size=(1, 3),\n",
    "                 stride=(1, 3),\n",
    "                 padding=(0, 1))\n",
    "pool1.out_height, pool1.out_width"
   ]
  },
  {
   "cell_type": "code",
   "execution_count": 21,
   "metadata": {},
   "outputs": [
    {
     "data": {
      "text/plain": [
       "(8, 107)"
      ]
     },
     "execution_count": 21,
     "metadata": {},
     "output_type": "execute_result"
    }
   ],
   "source": [
    "conv2 = ConvUnit(in_channels=conv1.out_channels,\n",
    "                 out_channels=conv1.out_channels * 2,\n",
    "                 height=pool1.out_height,\n",
    "                 width=pool1.out_width,\n",
    "                 kernel_size=(5, 7),\n",
    "                 stride=(2, 4),\n",
    "                 padding=(2, 3))\n",
    "conv2.out_height, conv2.out_width"
   ]
  },
  {
   "cell_type": "code",
   "execution_count": 22,
   "metadata": {},
   "outputs": [
    {
     "data": {
      "text/plain": [
       "(8, 36)"
      ]
     },
     "execution_count": 22,
     "metadata": {},
     "output_type": "execute_result"
    }
   ],
   "source": [
    "pool2 = PoolUnit(height=conv2.out_height,\n",
    "                 width=conv2.out_width,\n",
    "                 kernel_size=(1, 3),\n",
    "                 stride=(1, 3),\n",
    "                 padding=(0, 1))\n",
    "pool2.out_height, pool2.out_width"
   ]
  },
  {
   "cell_type": "code",
   "execution_count": 23,
   "metadata": {},
   "outputs": [
    {
     "data": {
      "text/plain": [
       "(4, 9)"
      ]
     },
     "execution_count": 23,
     "metadata": {},
     "output_type": "execute_result"
    }
   ],
   "source": [
    "conv3 = ConvUnit(in_channels=conv2.out_channels,\n",
    "                 out_channels=conv2.out_channels * 2,\n",
    "                 height=pool2.out_height,\n",
    "                 width=pool2.out_width,\n",
    "                 kernel_size=(5, 7),\n",
    "                 stride=(2, 4),\n",
    "                 padding=(2, 3))\n",
    "conv3.out_height, conv3.out_width"
   ]
  },
  {
   "cell_type": "code",
   "execution_count": 24,
   "metadata": {},
   "outputs": [
    {
     "data": {
      "text/plain": [
       "(4, 3)"
      ]
     },
     "execution_count": 24,
     "metadata": {},
     "output_type": "execute_result"
    }
   ],
   "source": [
    "pool3 = PoolUnit(height=conv3.out_height,\n",
    "                 width=conv3.out_width,\n",
    "                 kernel_size=(1, 3),\n",
    "                 stride=(1, 3),\n",
    "                 padding=(0, 1))\n",
    "pool3.out_height, pool3.out_width"
   ]
  },
  {
   "cell_type": "code",
   "execution_count": 25,
   "metadata": {},
   "outputs": [
    {
     "data": {
      "text/plain": [
       "48"
      ]
     },
     "execution_count": 25,
     "metadata": {},
     "output_type": "execute_result"
    }
   ],
   "source": [
    "conv3.out_channels"
   ]
  },
  {
   "cell_type": "code",
   "execution_count": null,
   "metadata": {},
   "outputs": [],
   "source": []
  }
 ],
 "metadata": {
  "kernelspec": {
   "display_name": "Python 3.9.13 ('eeg')",
   "language": "python",
   "name": "python3"
  },
  "language_info": {
   "codemirror_mode": {
    "name": "ipython",
    "version": 3
   },
   "file_extension": ".py",
   "mimetype": "text/x-python",
   "name": "python",
   "nbconvert_exporter": "python",
   "pygments_lexer": "ipython3",
   "version": "3.9.13"
  },
  "orig_nbformat": 4,
  "vscode": {
   "interpreter": {
    "hash": "ee1821b0ec3d0fa9d83a2a15bb6a001b25e3359f1f3de2ffa35fb21fe200eb48"
   }
  }
 },
 "nbformat": 4,
 "nbformat_minor": 2
}
