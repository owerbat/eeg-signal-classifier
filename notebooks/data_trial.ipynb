{
 "cells": [
  {
   "cell_type": "code",
   "execution_count": 1,
   "metadata": {},
   "outputs": [],
   "source": [
    "import numpy as np\n",
    "import pandas as pd"
   ]
  },
  {
   "cell_type": "code",
   "execution_count": 2,
   "metadata": {},
   "outputs": [],
   "source": [
    "from pymatreader import read_mat\n",
    "\n",
    "data = read_mat('../data/raw/1st_Day.mat')"
   ]
  },
  {
   "cell_type": "code",
   "execution_count": 3,
   "metadata": {},
   "outputs": [
    {
     "data": {
      "text/plain": [
       "dict_keys(['subs_ica'])"
      ]
     },
     "execution_count": 3,
     "metadata": {},
     "output_type": "execute_result"
    }
   ],
   "source": [
    "data.keys()"
   ]
  },
  {
   "cell_type": "code",
   "execution_count": 4,
   "metadata": {},
   "outputs": [
    {
     "data": {
      "text/plain": [
       "15"
      ]
     },
     "execution_count": 4,
     "metadata": {},
     "output_type": "execute_result"
    }
   ],
   "source": [
    "len(data['subs_ica'])"
   ]
  },
  {
   "cell_type": "code",
   "execution_count": 5,
   "metadata": {},
   "outputs": [
    {
     "data": {
      "text/plain": [
       "dict"
      ]
     },
     "execution_count": 5,
     "metadata": {},
     "output_type": "execute_result"
    }
   ],
   "source": [
    "type(data['subs_ica'][0])"
   ]
  },
  {
   "cell_type": "code",
   "execution_count": 6,
   "metadata": {},
   "outputs": [
    {
     "data": {
      "text/plain": [
       "dict_keys(['left_im2', 'right_quasi', 'left_quasi', 'left_im1', 'left_real', 'right_real', 'right_im1', 'right_im2'])"
      ]
     },
     "execution_count": 6,
     "metadata": {},
     "output_type": "execute_result"
    }
   ],
   "source": [
    "data['subs_ica'][0].keys()"
   ]
  },
  {
   "cell_type": "code",
   "execution_count": 7,
   "metadata": {},
   "outputs": [
    {
     "data": {
      "text/plain": [
       "dict"
      ]
     },
     "execution_count": 7,
     "metadata": {},
     "output_type": "execute_result"
    }
   ],
   "source": [
    "type(data['subs_ica'][0]['right_real'])"
   ]
  },
  {
   "cell_type": "code",
   "execution_count": 8,
   "metadata": {},
   "outputs": [
    {
     "data": {
      "text/plain": [
       "dict_keys(['label', 'time', 'fsample', 'cfg', 'trial', 'elec', 'hdr', 'sampleinfo', 'trialinfo'])"
      ]
     },
     "execution_count": 8,
     "metadata": {},
     "output_type": "execute_result"
    }
   ],
   "source": [
    "data['subs_ica'][0]['right_real'].keys()"
   ]
  },
  {
   "cell_type": "code",
   "execution_count": 10,
   "metadata": {},
   "outputs": [
    {
     "data": {
      "text/plain": [
       "(32, 10012)"
      ]
     },
     "execution_count": 10,
     "metadata": {},
     "output_type": "execute_result"
    }
   ],
   "source": [
    "data['subs_ica'][0]['right_real']['trial'][0].shape"
   ]
  },
  {
   "cell_type": "code",
   "execution_count": 11,
   "metadata": {},
   "outputs": [
    {
     "name": "stdout",
     "output_type": "stream",
     "text": [
      "(32, 10012)\n",
      "(32, 9975)\n",
      "(32, 9975)\n",
      "(32, 9976)\n",
      "(32, 9965)\n",
      "(32, 9977)\n",
      "(32, 9973)\n",
      "(32, 9975)\n",
      "(32, 9975)\n",
      "(32, 9964)\n",
      "(32, 9975)\n",
      "(32, 9975)\n",
      "(32, 9975)\n",
      "(32, 9974)\n",
      "(32, 9978)\n",
      "(32, 9976)\n",
      "(32, 9976)\n",
      "(32, 9974)\n",
      "(32, 9975)\n",
      "(32, 9968)\n"
     ]
    }
   ],
   "source": [
    "for trial in data['subs_ica'][0]['right_real']['trial']:\n",
    "    print(trial.shape)"
   ]
  },
  {
   "cell_type": "code",
   "execution_count": 13,
   "metadata": {},
   "outputs": [
    {
     "data": {
      "text/plain": [
       "10095"
      ]
     },
     "execution_count": 13,
     "metadata": {},
     "output_type": "execute_result"
    }
   ],
   "source": [
    "max_length = 0\n",
    "for person_idx, person in enumerate(data['subs_ica']):\n",
    "    for data_type in person.keys():\n",
    "        times = person[data_type]['time']\n",
    "        max_len = max([time.shape[0] for time in times])\n",
    "        max_length = max(max_length, max_len)\n",
    "max_length"
   ]
  },
  {
   "cell_type": "code",
   "execution_count": 11,
   "metadata": {},
   "outputs": [
    {
     "name": "stdout",
     "output_type": "stream",
     "text": [
      "cfg - <class 'dict'>\n",
      "\tdict_keys(['demean', 'component', 'trackmeminfo', 'previous', 'tracktimeinfo', 'updatesens', 'progress', 'callinfo', 'toolbox', 'feedback', 'version', 'checkpath', 'outputfilepresent'])\n",
      "trial - <class 'list'>\n",
      "\t20 - [array([[-6.72739269e-06, -1.65505850e-06,  3.33864236e-06, ...,\n",
      "         3.01690979e-05,  2.76408663e-05,  2.48525767e-05],\n",
      "       [ 1.36194253e-05,  6.88946381e-06,  9.70009839e-08, ...,\n",
      "         2.15157432e-05,  1.84133675e-05,  1.44326846e-05],\n",
      "       [-4.17162079e-06, -6.12514510e-06, -7.83398611e-06, ...,\n",
      "        -2.20993728e-07,  7.46996658e-07,  2.10515599e-06],\n",
      "       ...,\n",
      "       [ 7.31326999e-06,  8.99689259e-06,  1.10115116e-05, ...,\n",
      "        -2.61372556e-05, -2.01016820e-05, -1.20095963e-05],\n",
      "       [ 1.34758667e-05,  1.36613811e-05,  1.41711303e-05, ...,\n",
      "        -2.02139549e-05, -1.64671561e-05, -1.15712975e-05],\n",
      "       [ 1.70988841e-05,  1.50062545e-05,  1.32532145e-05, ...,\n",
      "        -1.83361715e-05, -1.52687593e-05, -1.14006257e-05]]), array([[ 9.45324274e-06,  6.89575469e-06,  4.41449095e-06, ...,\n",
      "         2.45966302e-06, -1.45941595e-06, -5.94453483e-06],\n",
      "       [ 4.18872636e-06,  7.63171378e-06,  1.17612686e-05, ...,\n",
      "         1.57464671e-05,  1.56223815e-05,  1.47645409e-05],\n",
      "       [-1.57616796e-06, -1.70704916e-06, -1.43221109e-06, ...,\n",
      "        -7.54495044e-06, -4.91341919e-06, -1.35710407e-06],\n",
      "       ...,\n",
      "       [-3.15908272e-07, -8.82449026e-06, -1.61157838e-05, ...,\n",
      "        -1.77607065e-05, -1.24979347e-05, -6.80039334e-06],\n",
      "       [-2.89458326e-06, -8.55849008e-06, -1.36635269e-05, ...,\n",
      "        -1.64090561e-05, -1.17008901e-05, -6.37786298e-06],\n",
      "       [-4.54200988e-06, -1.05268669e-05, -1.61310276e-05, ...,\n",
      "        -1.75784382e-05, -1.33006031e-05, -8.21937710e-06]]), array([[ 7.97998568e-06,  1.23904760e-05,  1.68955902e-05, ...,\n",
      "         1.68394122e-05,  6.33480240e-06, -5.46228146e-06],\n",
      "       [ 4.69300432e-06,  5.00536293e-06,  4.87623901e-06, ...,\n",
      "        -1.22151203e-05, -9.60213577e-06, -7.92031246e-06],\n",
      "       [-6.30064827e-07, -2.72794959e-06, -4.63132217e-06, ...,\n",
      "         5.91455373e-06,  4.46831336e-06,  3.05051374e-06],\n",
      "       ...,\n",
      "       [-5.63241897e-06, -1.26510104e-05, -1.84936865e-05, ...,\n",
      "        -9.36518861e-06, -3.67743421e-06,  3.04657938e-06],\n",
      "       [-6.70987826e-06, -1.32713344e-05, -1.87842591e-05, ...,\n",
      "        -1.79172336e-06,  1.85389835e-06,  6.15830374e-06],\n",
      "       [-4.44268787e-06, -1.49919548e-05, -2.38425329e-05, ...,\n",
      "         8.02880197e-06,  9.29018468e-06,  1.08687608e-05]]), array([[-1.40931876e-06,  1.05972294e-05,  2.04193594e-05, ...,\n",
      "         7.97093362e-06,  9.61226419e-06,  1.19811246e-05],\n",
      "       [-5.97143346e-06, -3.20016163e-06, -1.97497550e-06, ...,\n",
      "        -3.39202437e-06, -1.87068859e-06,  3.52099448e-07],\n",
      "       [ 1.21658832e-06,  1.53887793e-06,  2.00622199e-06, ...,\n",
      "         4.83385789e-06,  3.03239781e-06,  1.28254695e-06],\n",
      "       ...,\n",
      "       [ 8.24619737e-06,  3.25686400e-06, -1.41862159e-06, ...,\n",
      "         1.00360977e-05,  9.04736885e-06,  8.92145203e-06],\n",
      "       [ 8.58352609e-06,  4.57513293e-06,  9.80901456e-07, ...,\n",
      "         7.42031270e-06,  6.54801747e-06,  5.90290005e-06],\n",
      "       [ 7.74310665e-06,  6.54545074e-06,  5.65678628e-06, ...,\n",
      "         7.23321846e-06,  5.60958316e-06,  3.60224932e-06]]), array([[ 9.94009908e-06,  1.55599661e-05,  2.07676978e-05, ...,\n",
      "        -4.14405401e-06,  1.40279582e-06,  8.57358763e-06],\n",
      "       [ 5.04372342e-06,  3.78715733e-06,  2.09902108e-06, ...,\n",
      "        -1.31751590e-06, -1.75551693e-06, -2.52215401e-06],\n",
      "       [ 3.95243380e-07,  2.51082736e-06,  4.23184131e-06, ...,\n",
      "        -4.69569322e-06, -3.03819364e-06, -1.14167786e-06],\n",
      "       ...,\n",
      "       [ 3.22343794e-06,  9.84285176e-06,  1.57335733e-05, ...,\n",
      "         1.57792030e-05,  1.19705998e-05,  6.66664109e-06],\n",
      "       [ 2.33872806e-07,  2.49423289e-06,  4.72264555e-06, ...,\n",
      "         1.40963391e-05,  9.15210239e-06,  3.05539073e-06],\n",
      "       [-1.76164680e-06, -4.19667391e-06, -5.94042983e-06, ...,\n",
      "         1.41847897e-05,  9.37141872e-06,  4.05317464e-06]]), array([[-4.95956988e-06,  4.31572657e-06,  1.31286900e-05, ...,\n",
      "        -1.41832553e-06, -4.91746092e-06, -8.64470972e-06],\n",
      "       [-1.19295126e-05, -2.03538551e-05, -2.81794474e-05, ...,\n",
      "         2.03613284e-06, -1.17206768e-06, -5.07614742e-06],\n",
      "       [-2.60682014e-06, -3.60169210e-06, -4.44925045e-06, ...,\n",
      "        -3.61630642e-06, -2.81133589e-06, -2.05824823e-06],\n",
      "       ...,\n",
      "       [ 1.74600965e-06, -1.09009084e-06, -3.57954539e-06, ...,\n",
      "         1.36863779e-05,  1.23892495e-05,  1.03881808e-05],\n",
      "       [ 1.74605188e-06, -1.11214252e-06, -3.55496646e-06, ...,\n",
      "         1.53812949e-05,  1.32079815e-05,  1.03228240e-05],\n",
      "       [-1.01477747e-06, -1.12559015e-06, -9.37956669e-07, ...,\n",
      "         1.43563781e-05,  1.22871045e-05,  9.69038510e-06]]), array([[-7.89893341e-06, -9.35307973e-06, -9.94370304e-06, ...,\n",
      "         3.16089630e-05,  2.58434591e-05,  1.87250092e-05],\n",
      "       [-1.27748285e-06, -3.54006340e-06, -6.27443629e-06, ...,\n",
      "        -1.93638213e-05, -1.67426539e-05, -1.45994334e-05],\n",
      "       [ 2.87773550e-07,  4.83156432e-07,  6.27390331e-07, ...,\n",
      "        -4.87715305e-06, -4.54003700e-06, -4.28859228e-06],\n",
      "       ...,\n",
      "       [ 3.60709282e-06, -4.89331920e-07, -3.80217558e-06, ...,\n",
      "        -1.57101602e-06, -1.49908234e-06, -1.26549042e-07],\n",
      "       [ 6.71115585e-06,  2.58023614e-06, -1.25285832e-06, ...,\n",
      "        -1.48424598e-06, -1.01459417e-06,  3.37860059e-07],\n",
      "       [ 1.00762387e-05,  3.61480592e-06, -2.97009091e-06, ...,\n",
      "         4.74284694e-06,  4.50008451e-06,  4.44861527e-06]]), array([[-5.99695214e-07, -2.55855985e-06, -3.66551566e-06, ...,\n",
      "        -2.25699932e-05, -1.87055464e-05, -1.40517999e-05],\n",
      "       [-1.23984050e-05, -1.81719071e-05, -2.35053035e-05, ...,\n",
      "         8.47091873e-06,  8.50072825e-06,  9.67883703e-06],\n",
      "       [-1.19904550e-06, -2.55707564e-06, -3.48859291e-06, ...,\n",
      "        -1.24682150e-05, -1.01102312e-05, -7.45146670e-06],\n",
      "       ...,\n",
      "       [ 1.08801579e-05,  1.36392546e-05,  1.62204446e-05, ...,\n",
      "         2.76237541e-05,  2.59790816e-05,  2.47468397e-05],\n",
      "       [ 7.85292285e-06,  1.06429162e-05,  1.31627079e-05, ...,\n",
      "         2.08501103e-05,  2.02489333e-05,  1.99416296e-05],\n",
      "       [ 2.67835163e-06,  3.18115521e-06,  3.74855330e-06, ...,\n",
      "         1.79185791e-05,  1.78585786e-05,  1.78518756e-05]]), array([[ 1.33328969e-06,  2.34855969e-06,  2.44047778e-06, ...,\n",
      "        -1.70850553e-05, -1.98119162e-05, -2.29019610e-05],\n",
      "       [-8.09823585e-07,  3.76644542e-06,  7.07444155e-06, ...,\n",
      "         2.16830393e-07,  2.98897338e-06,  5.12932199e-06],\n",
      "       [-1.02877586e-06,  2.58531795e-07,  1.36342954e-06, ...,\n",
      "        -4.79184710e-06, -3.64349004e-06, -2.24207721e-06],\n",
      "       ...,\n",
      "       [-1.09522834e-06,  5.96341306e-07,  1.78253241e-06, ...,\n",
      "        -6.59978684e-06, -4.07247127e-06,  1.74466808e-07],\n",
      "       [ 1.04544630e-06,  1.77897813e-06,  2.26200037e-06, ...,\n",
      "        -5.13097433e-06, -3.28418253e-06, -1.76543324e-07],\n",
      "       [ 2.13272984e-08,  3.09727871e-06,  4.88127845e-06, ...,\n",
      "        -5.22226601e-06, -3.18368001e-06,  4.99242509e-08]]), array([[ 7.24157454e-06,  1.60861078e-05,  2.45729652e-05, ...,\n",
      "         1.22091916e-06,  2.30033991e-06,  3.76742544e-06],\n",
      "       [ 1.83791569e-06, -4.24334231e-06, -1.05093092e-05, ...,\n",
      "         8.56098884e-06,  3.94657146e-06, -9.95021970e-07],\n",
      "       [-3.79285064e-06, -5.82240259e-06, -7.20651421e-06, ...,\n",
      "         7.22260412e-06,  5.86002223e-06,  4.15848794e-06],\n",
      "       ...,\n",
      "       [ 3.96087368e-07, -8.08440003e-06, -1.44975642e-05, ...,\n",
      "         3.33820403e-06, -2.66787396e-06, -1.01042162e-05],\n",
      "       [ 3.41900400e-07, -3.49572492e-06, -6.21749760e-06, ...,\n",
      "         1.78138094e-06, -1.37112817e-06, -5.30340306e-06],\n",
      "       [ 1.67712527e-06,  4.80535227e-07,  5.02090481e-09, ...,\n",
      "        -1.22644209e-06, -1.99464236e-06, -3.09188495e-06]])]\n",
      "elec - <class 'dict'>\n",
      "\tdict_keys(['elecpos', 'chanpos', 'unit', 'balance', 'tra', 'type', 'label'])\n",
      "sampleinfo - <class 'numpy.ndarray'>\n",
      "\t(20, 2) - [[180057. 190068.]\n",
      " [190104. 200078.]\n",
      " [200109. 210083.]\n",
      " [210119. 220094.]\n",
      " [220123. 230087.]\n",
      " [230121. 240097.]\n",
      " [240128. 250100.]\n",
      " [250135. 260109.]\n",
      " [260143. 270117.]\n",
      " [270146. 280109.]]\n",
      "hdr - <class 'dict'>\n",
      "\tdict_keys(['Fs', 'chanunit', 'nTrials', 'nSamples', 'elec', 'chantype', 'nSamplesPre', 'nChans', 'label'])\n",
      "fsample - <class 'float'>\n",
      "time - <class 'list'>\n",
      "\t20 - [array([0.0000e+00, 1.0000e-03, 2.0000e-03, ..., 1.0009e+01, 1.0010e+01,\n",
      "       1.0011e+01]), array([0.000e+00, 1.000e-03, 2.000e-03, ..., 9.972e+00, 9.973e+00,\n",
      "       9.974e+00]), array([0.000e+00, 1.000e-03, 2.000e-03, ..., 9.972e+00, 9.973e+00,\n",
      "       9.974e+00]), array([0.000e+00, 1.000e-03, 2.000e-03, ..., 9.973e+00, 9.974e+00,\n",
      "       9.975e+00]), array([0.000e+00, 1.000e-03, 2.000e-03, ..., 9.962e+00, 9.963e+00,\n",
      "       9.964e+00]), array([0.000e+00, 1.000e-03, 2.000e-03, ..., 9.974e+00, 9.975e+00,\n",
      "       9.976e+00]), array([0.000e+00, 1.000e-03, 2.000e-03, ..., 9.970e+00, 9.971e+00,\n",
      "       9.972e+00]), array([0.000e+00, 1.000e-03, 2.000e-03, ..., 9.972e+00, 9.973e+00,\n",
      "       9.974e+00]), array([0.000e+00, 1.000e-03, 2.000e-03, ..., 9.972e+00, 9.973e+00,\n",
      "       9.974e+00]), array([0.000e+00, 1.000e-03, 2.000e-03, ..., 9.961e+00, 9.962e+00,\n",
      "       9.963e+00])]\n",
      "trialinfo - <class 'numpy.ndarray'>\n",
      "\t(20,) - [2. 2. 2. 2. 2. 2. 2. 2. 2. 2.]\n",
      "label - <class 'list'>\n",
      "\t32 - ['FP1', 'FP2', 'F7', 'F3', 'Fz', 'F4', 'F8', 'FT9', 'FC5', 'FC1']\n"
     ]
    }
   ],
   "source": [
    "for key, value in data['subs_ica'][0]['right_real'].items():\n",
    "    print(f'{key} - {type(value)}')\n",
    "    if isinstance(value, list):\n",
    "        print(f'\\t{len(value)} - {value[:10]}')\n",
    "    elif isinstance(value, np.ndarray):\n",
    "        print(f'\\t{value.shape} - {value[:10]}')\n",
    "    elif isinstance(value, dict):\n",
    "        print(f'\\t{value.keys()}')"
   ]
  },
  {
   "cell_type": "code",
   "execution_count": 12,
   "metadata": {},
   "outputs": [],
   "source": [
    "right_real_times = []\n",
    "right_real_trials = []\n",
    "person_idxs = []\n",
    "trial_idxs = []\n",
    "sensor_idxs = []\n",
    "\n",
    "for person_idx, person in enumerate(data['subs_ica']):\n",
    "    times = person['right_real']['time']\n",
    "    trials = person['right_real']['trial']\n",
    "\n",
    "    for trial_idx, (time, trial) in enumerate(zip(times, trials)):\n",
    "        for sensor_idx, sensor_data in enumerate(trial):\n",
    "            right_real_times.append(time)\n",
    "            right_real_trials.append(sensor_data)\n",
    "            person_idxs.append(person_idx)\n",
    "            trial_idxs.append(trial_idx)\n",
    "            sensor_idxs.append(sensor_idx)"
   ]
  },
  {
   "cell_type": "code",
   "execution_count": 13,
   "metadata": {},
   "outputs": [
    {
     "data": {
      "text/plain": [
       "(9152, 10012)"
      ]
     },
     "execution_count": 13,
     "metadata": {},
     "output_type": "execute_result"
    }
   ],
   "source": [
    "len(right_real_times), len(right_real_times[0])"
   ]
  },
  {
   "cell_type": "code",
   "execution_count": 14,
   "metadata": {},
   "outputs": [
    {
     "name": "stdout",
     "output_type": "stream",
     "text": [
      "len = 9975\n"
     ]
    }
   ],
   "source": [
    "for time in right_real_times:\n",
    "    if len(time) != len(right_real_times[0]):\n",
    "        print(f'len = {len(time)}')\n",
    "        break"
   ]
  },
  {
   "cell_type": "code",
   "execution_count": 15,
   "metadata": {},
   "outputs": [
    {
     "data": {
      "text/plain": [
       "(9960, 10095)"
      ]
     },
     "execution_count": 15,
     "metadata": {},
     "output_type": "execute_result"
    }
   ],
   "source": [
    "min_len, max_len = min([len(time) for time in right_real_times]), max([len(time) for time in right_real_times])\n",
    "min_len, max_len"
   ]
  },
  {
   "cell_type": "code",
   "execution_count": 16,
   "metadata": {},
   "outputs": [],
   "source": [
    "time_array = np.full((len(right_real_times), max_len), np.nan)\n",
    "trial_array = np.full((len(right_real_times), max_len), np.nan)\n",
    "\n",
    "for idx, (time, trial) in enumerate(zip(right_real_times, right_real_trials)):\n",
    "    actual_len = len(time)\n",
    "    time_array[idx, :actual_len] = time\n",
    "    trial_array[idx, :actual_len] = trial"
   ]
  },
  {
   "cell_type": "code",
   "execution_count": 17,
   "metadata": {},
   "outputs": [
    {
     "data": {
      "text/plain": [
       "((9152, 10095), (9152, 10095))"
      ]
     },
     "execution_count": 17,
     "metadata": {},
     "output_type": "execute_result"
    }
   ],
   "source": [
    "time_array.shape, trial_array.shape"
   ]
  },
  {
   "cell_type": "code",
   "execution_count": 18,
   "metadata": {},
   "outputs": [
    {
     "data": {
      "text/plain": [
       "array([[0.   , 0.001, 0.002, ...,   nan,   nan,   nan],\n",
       "       [0.   , 0.001, 0.002, ...,   nan,   nan,   nan],\n",
       "       [0.   , 0.001, 0.002, ...,   nan,   nan,   nan],\n",
       "       [0.   , 0.001, 0.002, ...,   nan,   nan,   nan],\n",
       "       [0.   , 0.001, 0.002, ...,   nan,   nan,   nan]])"
      ]
     },
     "execution_count": 18,
     "metadata": {},
     "output_type": "execute_result"
    }
   ],
   "source": [
    "time_array[:5]"
   ]
  },
  {
   "cell_type": "code",
   "execution_count": 19,
   "metadata": {},
   "outputs": [
    {
     "data": {
      "text/html": [
       "<div>\n",
       "<style scoped>\n",
       "    .dataframe tbody tr th:only-of-type {\n",
       "        vertical-align: middle;\n",
       "    }\n",
       "\n",
       "    .dataframe tbody tr th {\n",
       "        vertical-align: top;\n",
       "    }\n",
       "\n",
       "    .dataframe thead th {\n",
       "        text-align: right;\n",
       "    }\n",
       "</style>\n",
       "<table border=\"1\" class=\"dataframe\">\n",
       "  <thead>\n",
       "    <tr style=\"text-align: right;\">\n",
       "      <th></th>\n",
       "      <th>person_idx</th>\n",
       "      <th>trial_idx</th>\n",
       "      <th>sensor_idx</th>\n",
       "    </tr>\n",
       "  </thead>\n",
       "  <tbody>\n",
       "    <tr>\n",
       "      <th>0</th>\n",
       "      <td>0</td>\n",
       "      <td>0</td>\n",
       "      <td>0</td>\n",
       "    </tr>\n",
       "    <tr>\n",
       "      <th>1</th>\n",
       "      <td>0</td>\n",
       "      <td>0</td>\n",
       "      <td>1</td>\n",
       "    </tr>\n",
       "    <tr>\n",
       "      <th>2</th>\n",
       "      <td>0</td>\n",
       "      <td>0</td>\n",
       "      <td>2</td>\n",
       "    </tr>\n",
       "    <tr>\n",
       "      <th>3</th>\n",
       "      <td>0</td>\n",
       "      <td>0</td>\n",
       "      <td>3</td>\n",
       "    </tr>\n",
       "    <tr>\n",
       "      <th>4</th>\n",
       "      <td>0</td>\n",
       "      <td>0</td>\n",
       "      <td>4</td>\n",
       "    </tr>\n",
       "    <tr>\n",
       "      <th>5</th>\n",
       "      <td>0</td>\n",
       "      <td>0</td>\n",
       "      <td>5</td>\n",
       "    </tr>\n",
       "    <tr>\n",
       "      <th>6</th>\n",
       "      <td>0</td>\n",
       "      <td>0</td>\n",
       "      <td>6</td>\n",
       "    </tr>\n",
       "    <tr>\n",
       "      <th>7</th>\n",
       "      <td>0</td>\n",
       "      <td>0</td>\n",
       "      <td>7</td>\n",
       "    </tr>\n",
       "    <tr>\n",
       "      <th>8</th>\n",
       "      <td>0</td>\n",
       "      <td>0</td>\n",
       "      <td>8</td>\n",
       "    </tr>\n",
       "    <tr>\n",
       "      <th>9</th>\n",
       "      <td>0</td>\n",
       "      <td>0</td>\n",
       "      <td>9</td>\n",
       "    </tr>\n",
       "  </tbody>\n",
       "</table>\n",
       "</div>"
      ],
      "text/plain": [
       "   person_idx  trial_idx  sensor_idx\n",
       "0           0          0           0\n",
       "1           0          0           1\n",
       "2           0          0           2\n",
       "3           0          0           3\n",
       "4           0          0           4\n",
       "5           0          0           5\n",
       "6           0          0           6\n",
       "7           0          0           7\n",
       "8           0          0           8\n",
       "9           0          0           9"
      ]
     },
     "execution_count": 19,
     "metadata": {},
     "output_type": "execute_result"
    }
   ],
   "source": [
    "right_real_info = pd.DataFrame({\n",
    "    'person_idx': np.array(person_idxs),\n",
    "    'trial_idx': np.array(trial_idxs),\n",
    "    'sensor_idx': np.array(sensor_idxs),\n",
    "})\n",
    "right_real_info.head(10)"
   ]
  },
  {
   "cell_type": "code",
   "execution_count": 20,
   "metadata": {},
   "outputs": [],
   "source": [
    "right_real_info.to_parquet('../data/right_real_info.parquet')"
   ]
  },
  {
   "cell_type": "code",
   "execution_count": 21,
   "metadata": {},
   "outputs": [],
   "source": [
    "np.save('../data/right_real_time.npy', time_array)\n",
    "np.save('../data/right_real_trial.npy', trial_array)"
   ]
  },
  {
   "cell_type": "code",
   "execution_count": 28,
   "metadata": {},
   "outputs": [],
   "source": [
    "def extract_data(data: dict, data_type: str, save: bool = False):\n",
    "    result_times = []\n",
    "    result_trials = []\n",
    "    person_idxs = []\n",
    "    trial_idxs = []\n",
    "    sensor_idxs = []\n",
    "\n",
    "    for person_idx, person in enumerate(data['subs_ica']):\n",
    "        times = person[data_type]['time']\n",
    "        trials = person[data_type]['trial']\n",
    "\n",
    "        for trial_idx, (time, trial) in enumerate(zip(times, trials)):\n",
    "            for sensor_idx, sensor_data in enumerate(trial):\n",
    "                result_times.append(time)\n",
    "                result_trials.append(sensor_data)\n",
    "                person_idxs.append(person_idx)\n",
    "                trial_idxs.append(trial_idx)\n",
    "                sensor_idxs.append(sensor_idx)\n",
    "\n",
    "    max_len = max([len(time) for time in result_times])\n",
    "\n",
    "    time_array = np.full((len(result_times), max_len), np.nan)\n",
    "    trial_array = np.full((len(result_trials), max_len), np.nan)\n",
    "\n",
    "    for idx, (time, trial) in enumerate(zip(result_times, result_trials)):\n",
    "        actual_len = len(time)\n",
    "        time_array[idx, :actual_len] = time\n",
    "        trial_array[idx, :actual_len] = trial\n",
    "\n",
    "    info = pd.DataFrame({\n",
    "        'person_idx': np.array(person_idxs),\n",
    "        'trial_idx': np.array(trial_idxs),\n",
    "        'sensor_idx': np.array(sensor_idxs),\n",
    "    })\n",
    "\n",
    "    if save:\n",
    "        info.to_parquet(f'../data/{data_type}_info.parquet')\n",
    "        np.save(f'../data/{data_type}_time.npy', time_array)\n",
    "        np.save(f'../data/{data_type}_trial.npy', trial_array)\n",
    "\n",
    "    return info, time_array, trial_array"
   ]
  },
  {
   "cell_type": "code",
   "execution_count": 29,
   "metadata": {},
   "outputs": [],
   "source": [
    "left_real_info, left_real_times, left_real_trials = extract_data(data, 'left_real', save=True)"
   ]
  },
  {
   "cell_type": "code",
   "execution_count": 32,
   "metadata": {},
   "outputs": [
    {
     "data": {
      "text/plain": [
       "array([[-1.03598653e-05, -1.98608647e-05, -2.76844564e-05, ...,\n",
       "                    nan,             nan,             nan],\n",
       "       [ 2.68916453e-06,  4.88606881e-06,  6.58706949e-06, ...,\n",
       "                    nan,             nan,             nan],\n",
       "       [ 4.45149519e-06,  2.49801333e-06,  1.00598444e-06, ...,\n",
       "                    nan,             nan,             nan],\n",
       "       ...,\n",
       "       [ 9.58256683e-07,  1.94050894e-07, -4.05722838e-07, ...,\n",
       "                    nan,             nan,             nan],\n",
       "       [ 5.56583477e-06,  4.03205868e-06,  2.74496561e-06, ...,\n",
       "                    nan,             nan,             nan],\n",
       "       [ 5.80368395e-06,  3.65099512e-06,  1.65556952e-06, ...,\n",
       "                    nan,             nan,             nan]])"
      ]
     },
     "execution_count": 32,
     "metadata": {},
     "output_type": "execute_result"
    }
   ],
   "source": [
    "left_real_trials[:10]"
   ]
  },
  {
   "cell_type": "code",
   "execution_count": null,
   "metadata": {},
   "outputs": [],
   "source": []
  }
 ],
 "metadata": {
  "kernelspec": {
   "display_name": "Python 3.9.13 ('eeg')",
   "language": "python",
   "name": "python3"
  },
  "language_info": {
   "codemirror_mode": {
    "name": "ipython",
    "version": 3
   },
   "file_extension": ".py",
   "mimetype": "text/x-python",
   "name": "python",
   "nbconvert_exporter": "python",
   "pygments_lexer": "ipython3",
   "version": "3.9.13"
  },
  "orig_nbformat": 4,
  "vscode": {
   "interpreter": {
    "hash": "10fb5c1f66ad1bf860997406b852de75106c48b31ebb11acbccf845c0022213a"
   }
  }
 },
 "nbformat": 4,
 "nbformat_minor": 2
}
