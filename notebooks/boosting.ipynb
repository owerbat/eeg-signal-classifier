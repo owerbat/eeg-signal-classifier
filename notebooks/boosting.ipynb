{
 "cells": [
  {
   "cell_type": "code",
   "execution_count": 1,
   "metadata": {},
   "outputs": [],
   "source": [
    "\n",
    "import os\n",
    "import numpy as np\n",
    "from sklearn.decomposition import PCA\n",
    "from sklearn.metrics import accuracy_score\n",
    "import xgboost as xgb\n",
    "\n",
    "from eegsc.preprocessing.filters import BandPassFilter\n",
    "from eegsc.preprocessing.spectrum import SpectrumTransformer\n",
    "from eegsc.utils.io import read_raw\n",
    "from eegsc.utils.path import get_data_path\n",
    "from eegsc.utils.experiments import create_spectrum_dataset\n",
    "from eegsc.utils.cross_val import train_test_split, cross_val_score"
   ]
  },
  {
   "cell_type": "code",
   "execution_count": 2,
   "metadata": {},
   "outputs": [],
   "source": [
    "start_time = 5\n",
    "signal_duration = 10 - start_time\n",
    "bandpass_filter = BandPassFilter(signal_duration=signal_duration)\n",
    "spectrum_transformer = SpectrumTransformer(psd_method='periodogram',\n",
    "                                           signal_duration=signal_duration,\n",
    "                                           features_set='iaf_paf_psd_trp')"
   ]
  },
  {
   "cell_type": "code",
   "execution_count": 3,
   "metadata": {},
   "outputs": [],
   "source": [
    "data = read_raw(os.path.join(get_data_path(), 'raw', '1st_Day.mat'),\n",
    "                # data_types=['left_real', 'right_real',\n",
    "                #             'left_im1', 'right_im1',\n",
    "                #             'left_im2', 'right_im2',\n",
    "                #             'left_quasi', 'right_quasi'])\n",
    "                # data_types=['left_quasi', 'right_quasi'])\n",
    "                # data_types=['left_im2', 'right_im2'])\n",
    "                # data_types=['left_im1', 'right_im1'])\n",
    "                data_types=['left_real', 'right_real'])"
   ]
  },
  {
   "cell_type": "code",
   "execution_count": 4,
   "metadata": {},
   "outputs": [
    {
     "name": "stdout",
     "output_type": "stream",
     "text": [
      "before: [2.87620118e-11 2.51151235e-10 1.09939363e-09 ... 7.65832621e-07\n",
      " 7.93657323e-07 8.16755430e-07]\n",
      "after: [5.54390080e-07 5.50807535e-07 5.45864806e-07 ... 5.55808784e-07\n",
      " 5.57002605e-07 5.56493272e-07]\n",
      "before: [ 2.87620118e-11  2.51012478e-10  1.09790760e-09 ... -8.73010567e-07\n",
      " -1.03144155e-06 -1.18670462e-06]\n",
      "after: [-3.97142319e-07 -5.10560035e-07 -6.19559384e-07 ... -3.54573880e-08\n",
      " -1.59058909e-07 -2.79801692e-07]\n",
      "before: [1.13092992e-10 9.81835759e-10 4.26586888e-09 ... 5.55163824e-06\n",
      " 5.68296660e-06 5.73819765e-06]\n",
      "after: [4.03968326e-06 4.06106687e-06 4.03934306e-06 ... 3.71103197e-06\n",
      " 3.86481104e-06 3.97438818e-06]\n",
      "before: [ 1.45252722e-09  1.22561737e-08  5.13464314e-08 ... -1.18767549e-05\n",
      " -1.18997813e-05 -1.12980644e-05]\n",
      "after: [-4.98310176e-06 -4.10736057e-06 -3.09065788e-06 ... -6.30091861e-06\n",
      " -6.11475342e-06 -5.66604454e-06]\n",
      "before: [4.35559732e-11 3.63646716e-10 1.50747729e-09 ... 3.79099384e-06\n",
      " 3.64546125e-06 3.48617591e-06]\n",
      "after: [1.05051033e-06 9.57647448e-07 8.61571042e-07 ... 1.30769014e-06\n",
      " 1.22573524e-06 1.13994236e-06]\n",
      "before: [4.35559732e-11 3.63436589e-10 1.50530741e-09 ... 2.13767684e-06\n",
      " 2.01316586e-06 1.87073146e-06]\n",
      "after: [1.85343289e-06 1.83797988e-06 1.81401308e-06 ... 1.84761586e-06\n",
      " 1.85833128e-06 1.86024832e-06]\n",
      "before: [ 1.71263239e-10  1.42124040e-09  5.84446400e-09 ... -1.65086819e-07\n",
      " -6.75893099e-07 -1.19323989e-06]\n",
      "after: [1.19080060e-06 1.08202861e-06 9.60287309e-07 ... 1.44321280e-06\n",
      " 1.37086787e-06 1.28692369e-06]\n",
      "before: [ 2.19964574e-09  1.77175571e-08  7.00559505e-08 ... -1.27920783e-05\n",
      " -1.09182459e-05 -8.57202733e-06]\n",
      "after: [-3.43801145e-06 -1.69350219e-06  1.50331672e-08 ... -7.85474838e-06\n",
      " -6.61760018e-06 -5.11383859e-06]\n"
     ]
    },
    {
     "data": {
      "text/plain": [
       "((569, 320), (569,), (569,))"
      ]
     },
     "execution_count": 4,
     "metadata": {},
     "output_type": "execute_result"
    }
   ],
   "source": [
    "statistics, labels, person_idxs = create_spectrum_dataset(\n",
    "    data, bandpass_filter, spectrum_transformer, start_time=start_time, is_len_equal=True)\n",
    "statistics.shape, labels.shape, person_idxs.shape"
   ]
  },
  {
   "cell_type": "code",
   "execution_count": 6,
   "metadata": {},
   "outputs": [
    {
     "name": "stderr",
     "output_type": "stream",
     "text": [
      " 20%|██        | 1/5 [00:00<00:01,  2.46it/s]"
     ]
    },
    {
     "name": "stdout",
     "output_type": "stream",
     "text": [
      "score [ 2 11  3]: 0.7155172413793104\n"
     ]
    },
    {
     "name": "stderr",
     "output_type": "stream",
     "text": [
      " 40%|████      | 2/5 [00:00<00:00,  3.21it/s]"
     ]
    },
    {
     "name": "stdout",
     "output_type": "stream",
     "text": [
      "score [10  0  4]: 0.6134453781512605\n"
     ]
    },
    {
     "name": "stderr",
     "output_type": "stream",
     "text": [
      " 60%|██████    | 3/5 [00:00<00:00,  3.47it/s]"
     ]
    },
    {
     "name": "stdout",
     "output_type": "stream",
     "text": [
      "score [ 7  5 14]: 0.5350877192982456\n"
     ]
    },
    {
     "name": "stderr",
     "output_type": "stream",
     "text": [
      " 80%|████████  | 4/5 [00:01<00:00,  3.58it/s]"
     ]
    },
    {
     "name": "stdout",
     "output_type": "stream",
     "text": [
      "score [12  6  9]: 0.4953271028037383\n"
     ]
    },
    {
     "name": "stderr",
     "output_type": "stream",
     "text": [
      "100%|██████████| 5/5 [00:01<00:00,  3.45it/s]"
     ]
    },
    {
     "name": "stdout",
     "output_type": "stream",
     "text": [
      "score [13  8  1]: 0.6371681415929203\n"
     ]
    },
    {
     "name": "stderr",
     "output_type": "stream",
     "text": [
      "\n"
     ]
    },
    {
     "data": {
      "text/html": [
       "<div>\n",
       "<style scoped>\n",
       "    .dataframe tbody tr th:only-of-type {\n",
       "        vertical-align: middle;\n",
       "    }\n",
       "\n",
       "    .dataframe tbody tr th {\n",
       "        vertical-align: top;\n",
       "    }\n",
       "\n",
       "    .dataframe thead th {\n",
       "        text-align: right;\n",
       "    }\n",
       "</style>\n",
       "<table border=\"1\" class=\"dataframe\">\n",
       "  <thead>\n",
       "    <tr style=\"text-align: right;\">\n",
       "      <th></th>\n",
       "      <th>test_persons</th>\n",
       "      <th>train_metrics</th>\n",
       "      <th>test_metrics</th>\n",
       "    </tr>\n",
       "  </thead>\n",
       "  <tbody>\n",
       "    <tr>\n",
       "      <th>0</th>\n",
       "      <td>[2, 11, 3]</td>\n",
       "      <td>1.0</td>\n",
       "      <td>0.715517</td>\n",
       "    </tr>\n",
       "    <tr>\n",
       "      <th>1</th>\n",
       "      <td>[10, 0, 4]</td>\n",
       "      <td>1.0</td>\n",
       "      <td>0.613445</td>\n",
       "    </tr>\n",
       "    <tr>\n",
       "      <th>2</th>\n",
       "      <td>[7, 5, 14]</td>\n",
       "      <td>1.0</td>\n",
       "      <td>0.535088</td>\n",
       "    </tr>\n",
       "    <tr>\n",
       "      <th>3</th>\n",
       "      <td>[12, 6, 9]</td>\n",
       "      <td>1.0</td>\n",
       "      <td>0.495327</td>\n",
       "    </tr>\n",
       "    <tr>\n",
       "      <th>4</th>\n",
       "      <td>[13, 8, 1]</td>\n",
       "      <td>1.0</td>\n",
       "      <td>0.637168</td>\n",
       "    </tr>\n",
       "  </tbody>\n",
       "</table>\n",
       "</div>"
      ],
      "text/plain": [
       "  test_persons  train_metrics  test_metrics\n",
       "0   [2, 11, 3]            1.0      0.715517\n",
       "1   [10, 0, 4]            1.0      0.613445\n",
       "2   [7, 5, 14]            1.0      0.535088\n",
       "3   [12, 6, 9]            1.0      0.495327\n",
       "4   [13, 8, 1]            1.0      0.637168"
      ]
     },
     "execution_count": 6,
     "metadata": {},
     "output_type": "execute_result"
    }
   ],
   "source": [
    "metrics = cross_val_score(data=statistics,\n",
    "                          labels=labels,\n",
    "                          person_idxs=person_idxs,\n",
    "                          model=xgb.XGBClassifier(random_state=0),\n",
    "                          metric=accuracy_score,\n",
    "                          n_test_persons=3,\n",
    "                          random_state=0)\n",
    "metrics"
   ]
  },
  {
   "cell_type": "code",
   "execution_count": 8,
   "metadata": {},
   "outputs": [
    {
     "name": "stderr",
     "output_type": "stream",
     "text": [
      " 20%|██        | 1/5 [00:00<00:01,  3.33it/s]"
     ]
    },
    {
     "name": "stdout",
     "output_type": "stream",
     "text": [
      "score [ 2 11  3]: 0.5517241379310345\n",
      "score [10  0  4]: 0.5042016806722689\n"
     ]
    },
    {
     "name": "stderr",
     "output_type": "stream",
     "text": [
      " 60%|██████    | 3/5 [00:00<00:00,  4.69it/s]"
     ]
    },
    {
     "name": "stdout",
     "output_type": "stream",
     "text": [
      "score [ 7  5 14]: 0.5263157894736842\n",
      "score [12  6  9]: 0.45794392523364486\n"
     ]
    },
    {
     "name": "stderr",
     "output_type": "stream",
     "text": [
      "100%|██████████| 5/5 [00:01<00:00,  4.68it/s]"
     ]
    },
    {
     "name": "stdout",
     "output_type": "stream",
     "text": [
      "score [13  8  1]: 0.5752212389380531\n"
     ]
    },
    {
     "name": "stderr",
     "output_type": "stream",
     "text": [
      "\n"
     ]
    },
    {
     "data": {
      "text/html": [
       "<div>\n",
       "<style scoped>\n",
       "    .dataframe tbody tr th:only-of-type {\n",
       "        vertical-align: middle;\n",
       "    }\n",
       "\n",
       "    .dataframe tbody tr th {\n",
       "        vertical-align: top;\n",
       "    }\n",
       "\n",
       "    .dataframe thead th {\n",
       "        text-align: right;\n",
       "    }\n",
       "</style>\n",
       "<table border=\"1\" class=\"dataframe\">\n",
       "  <thead>\n",
       "    <tr style=\"text-align: right;\">\n",
       "      <th></th>\n",
       "      <th>test_persons</th>\n",
       "      <th>train_metrics</th>\n",
       "      <th>test_metrics</th>\n",
       "    </tr>\n",
       "  </thead>\n",
       "  <tbody>\n",
       "    <tr>\n",
       "      <th>0</th>\n",
       "      <td>[2, 11, 3]</td>\n",
       "      <td>1.0</td>\n",
       "      <td>0.551724</td>\n",
       "    </tr>\n",
       "    <tr>\n",
       "      <th>1</th>\n",
       "      <td>[10, 0, 4]</td>\n",
       "      <td>1.0</td>\n",
       "      <td>0.504202</td>\n",
       "    </tr>\n",
       "    <tr>\n",
       "      <th>2</th>\n",
       "      <td>[7, 5, 14]</td>\n",
       "      <td>1.0</td>\n",
       "      <td>0.526316</td>\n",
       "    </tr>\n",
       "    <tr>\n",
       "      <th>3</th>\n",
       "      <td>[12, 6, 9]</td>\n",
       "      <td>1.0</td>\n",
       "      <td>0.457944</td>\n",
       "    </tr>\n",
       "    <tr>\n",
       "      <th>4</th>\n",
       "      <td>[13, 8, 1]</td>\n",
       "      <td>1.0</td>\n",
       "      <td>0.575221</td>\n",
       "    </tr>\n",
       "  </tbody>\n",
       "</table>\n",
       "</div>"
      ],
      "text/plain": [
       "  test_persons  train_metrics  test_metrics\n",
       "0   [2, 11, 3]            1.0      0.551724\n",
       "1   [10, 0, 4]            1.0      0.504202\n",
       "2   [7, 5, 14]            1.0      0.526316\n",
       "3   [12, 6, 9]            1.0      0.457944\n",
       "4   [13, 8, 1]            1.0      0.575221"
      ]
     },
     "execution_count": 8,
     "metadata": {},
     "output_type": "execute_result"
    }
   ],
   "source": [
    "def pca_preproc(x_train, x_test):\n",
    "    pca = PCA(n_components=.9, svd_solver='full').fit(x_train)\n",
    "    return pca.transform(x_train), pca.transform(x_test)\n",
    "\n",
    "metrics = cross_val_score(data=statistics,\n",
    "                          labels=labels,\n",
    "                          person_idxs=person_idxs,\n",
    "                          model=xgb.XGBClassifier(random_state=0),\n",
    "                          metric=accuracy_score,\n",
    "                          n_test_persons=3,\n",
    "                          random_state=0,\n",
    "                          data_preprocessor=pca_preproc)\n",
    "metrics"
   ]
  },
  {
   "cell_type": "code",
   "execution_count": null,
   "metadata": {},
   "outputs": [],
   "source": []
  },
  {
   "cell_type": "code",
   "execution_count": null,
   "metadata": {},
   "outputs": [],
   "source": []
  }
 ],
 "metadata": {
  "kernelspec": {
   "display_name": "eeg",
   "language": "python",
   "name": "python3"
  },
  "language_info": {
   "codemirror_mode": {
    "name": "ipython",
    "version": 3
   },
   "file_extension": ".py",
   "mimetype": "text/x-python",
   "name": "python",
   "nbconvert_exporter": "python",
   "pygments_lexer": "ipython3",
   "version": "3.9.13"
  },
  "orig_nbformat": 4
 },
 "nbformat": 4,
 "nbformat_minor": 2
}
