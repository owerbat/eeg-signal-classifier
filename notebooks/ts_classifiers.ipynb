{
 "cells": [
  {
   "cell_type": "code",
   "execution_count": 1,
   "metadata": {},
   "outputs": [],
   "source": [
    "import os\n",
    "import numpy as np\n",
    "import scipy\n",
    "from tqdm import tqdm\n",
    "from sklearn.metrics import accuracy_score\n",
    "from sklearn.ensemble import RandomForestClassifier\n",
    "from sktime.classification.compose import ColumnEnsembleClassifier\n",
    "from sktime.classification.interval_based import DrCIF\n",
    "from sktime.classification.kernel_based import RocketClassifier\n",
    "from sktime.classification.hybrid import HIVECOTEV2\n",
    "from sktime.classification.distance_based import KNeighborsTimeSeriesClassifier\n",
    "from sktime.transformations.panel.catch22 import Catch22\n",
    "from sktime.pipeline import make_pipeline\n",
    "\n",
    "from eegsc.preprocessing.filters import BandPassFilter, FFTFilter\n",
    "from eegsc.utils.io import read_raw\n",
    "from eegsc.utils.path import get_data_path\n",
    "from eegsc.utils.experiments import create_sequence_dataset\n",
    "from eegsc.utils.cross_val import train_test_split, cross_val_score"
   ]
  },
  {
   "cell_type": "code",
   "execution_count": 2,
   "metadata": {},
   "outputs": [],
   "source": [
    "data = read_raw(os.path.join(get_data_path(), 'raw', '1st_Day.mat'),\n",
    "                # data_types=['left_real', 'right_real',\n",
    "                #             'left_im1', 'right_im1',\n",
    "                #             'left_im2', 'right_im2',\n",
    "                #             'left_quasi', 'right_quasi'])\n",
    "                # data_types=['left_quasi', 'right_quasi'])\n",
    "                # data_types=['left_im2', 'right_im2'])\n",
    "                # data_types=['left_im1', 'right_im1'])\n",
    "                data_types=['left_real', 'right_real'])"
   ]
  },
  {
   "cell_type": "code",
   "execution_count": 3,
   "metadata": {},
   "outputs": [],
   "source": [
    "start_time = 5\n",
    "signal_duration = 10 - start_time\n",
    "bandpass_filter = BandPassFilter(signal_duration=signal_duration)"
   ]
  },
  {
   "cell_type": "code",
   "execution_count": 4,
   "metadata": {},
   "outputs": [
    {
     "data": {
      "text/plain": [
       "((569, 32, 5094), (569,))"
      ]
     },
     "execution_count": 4,
     "metadata": {},
     "output_type": "execute_result"
    }
   ],
   "source": [
    "statistics, labels, person_idxs = create_sequence_dataset(\n",
    "    data=data,\n",
    "    bandpass_filter=bandpass_filter,\n",
    "    start_time=start_time,\n",
    "    is_len_equal=True\n",
    ")\n",
    "statistics.shape, labels.shape"
   ]
  },
  {
   "cell_type": "code",
   "execution_count": 5,
   "metadata": {},
   "outputs": [],
   "source": [
    "statistics *= 1e6"
   ]
  },
  {
   "cell_type": "code",
   "execution_count": 6,
   "metadata": {},
   "outputs": [],
   "source": [
    "# for i, sample in enumerate(statistics):\n",
    "#     for j, signal in enumerate(sample):\n",
    "#         statistics[i, j, :] = scipy.signal.medfilt(signal, 5)\n",
    "\n",
    "fft_filter = FFTFilter(.75)\n",
    "statistics = fft_filter.filter(statistics)"
   ]
  },
  {
   "cell_type": "code",
   "execution_count": 7,
   "metadata": {},
   "outputs": [],
   "source": [
    "class MultiRandomForest:\n",
    "    def __init__(self, n_estimators, **params) -> None:\n",
    "        self.n_estimators = n_estimators\n",
    "        self.estimators = [RandomForestClassifier(**params) for _ in range(n_estimators)]\n",
    "\n",
    "    def fit(self, x_train: list, y_train: np.ndarray):\n",
    "        n_features = x_train.shape[1] // self.n_estimators\n",
    "        print('Fitting...')\n",
    "        for i, estimator in tqdm(enumerate(self.estimators)):\n",
    "            # estimator.fit(x_train[i], y_train)\n",
    "            start_col = i * n_features\n",
    "            end_col = min((i + 1) * n_features, x_train.shape[1])\n",
    "            estimator.fit(x_train[:, start_col: end_col], y_train)\n",
    "\n",
    "    def predict(self, x_test: list):\n",
    "        # votes = np.vstack(\n",
    "        #     [estimator.predict(x_test[i]) for i, estimator in enumerate(self.estimators)])\n",
    "        votes = []\n",
    "        n_features = x_test.shape[1] // self.n_estimators\n",
    "        for i, estimator in enumerate(self.estimators):\n",
    "            start_col = i * n_features\n",
    "            end_col = min((i + 1) * n_features, x_test.shape[1])\n",
    "            votes.append(estimator.predict(x_test[:, start_col: end_col]))\n",
    "        votes = np.vstack(votes)\n",
    "        preds = np.array([np.bincount(votes[:, i]).argmax() for i in range(votes.shape[1])])\n",
    "        return preds"
   ]
  },
  {
   "cell_type": "code",
   "execution_count": 8,
   "metadata": {},
   "outputs": [
    {
     "name": "stderr",
     "output_type": "stream",
     "text": [
      " 20%|██        | 1/5 [1:10:19<4:41:19, 4219.98s/it]"
     ]
    },
    {
     "name": "stdout",
     "output_type": "stream",
     "text": [
      "score [ 2 11  3]: 0.46551724137931033\n"
     ]
    },
    {
     "name": "stderr",
     "output_type": "stream",
     "text": [
      " 40%|████      | 2/5 [2:20:00<3:29:50, 4196.84s/it]"
     ]
    },
    {
     "name": "stdout",
     "output_type": "stream",
     "text": [
      "score [10  0  4]: 0.5462184873949579\n"
     ]
    },
    {
     "name": "stderr",
     "output_type": "stream",
     "text": [
      " 60%|██████    | 3/5 [3:40:29<2:29:31, 4485.67s/it]"
     ]
    },
    {
     "name": "stdout",
     "output_type": "stream",
     "text": [
      "score [ 7  5 14]: 0.5087719298245614\n"
     ]
    },
    {
     "name": "stderr",
     "output_type": "stream",
     "text": [
      " 80%|████████  | 4/5 [5:07:07<1:19:26, 4766.77s/it]"
     ]
    },
    {
     "name": "stdout",
     "output_type": "stream",
     "text": [
      "score [12  6  9]: 0.5420560747663551\n"
     ]
    },
    {
     "name": "stderr",
     "output_type": "stream",
     "text": [
      "100%|██████████| 5/5 [6:29:08<00:00, 4669.63s/it]  "
     ]
    },
    {
     "name": "stdout",
     "output_type": "stream",
     "text": [
      "score [13  8  1]: 0.6991150442477876\n"
     ]
    },
    {
     "name": "stderr",
     "output_type": "stream",
     "text": [
      "\n"
     ]
    },
    {
     "data": {
      "text/html": [
       "<div>\n",
       "<style scoped>\n",
       "    .dataframe tbody tr th:only-of-type {\n",
       "        vertical-align: middle;\n",
       "    }\n",
       "\n",
       "    .dataframe tbody tr th {\n",
       "        vertical-align: top;\n",
       "    }\n",
       "\n",
       "    .dataframe thead th {\n",
       "        text-align: right;\n",
       "    }\n",
       "</style>\n",
       "<table border=\"1\" class=\"dataframe\">\n",
       "  <thead>\n",
       "    <tr style=\"text-align: right;\">\n",
       "      <th></th>\n",
       "      <th>test_persons</th>\n",
       "      <th>test_metrics</th>\n",
       "    </tr>\n",
       "  </thead>\n",
       "  <tbody>\n",
       "    <tr>\n",
       "      <th>0</th>\n",
       "      <td>[2, 11, 3]</td>\n",
       "      <td>0.465517</td>\n",
       "    </tr>\n",
       "    <tr>\n",
       "      <th>1</th>\n",
       "      <td>[10, 0, 4]</td>\n",
       "      <td>0.546218</td>\n",
       "    </tr>\n",
       "    <tr>\n",
       "      <th>2</th>\n",
       "      <td>[7, 5, 14]</td>\n",
       "      <td>0.508772</td>\n",
       "    </tr>\n",
       "    <tr>\n",
       "      <th>3</th>\n",
       "      <td>[12, 6, 9]</td>\n",
       "      <td>0.542056</td>\n",
       "    </tr>\n",
       "    <tr>\n",
       "      <th>4</th>\n",
       "      <td>[13, 8, 1]</td>\n",
       "      <td>0.699115</td>\n",
       "    </tr>\n",
       "  </tbody>\n",
       "</table>\n",
       "</div>"
      ],
      "text/plain": [
       "  test_persons  test_metrics\n",
       "0   [2, 11, 3]      0.465517\n",
       "1   [10, 0, 4]      0.546218\n",
       "2   [7, 5, 14]      0.508772\n",
       "3   [12, 6, 9]      0.542056\n",
       "4   [13, 8, 1]      0.699115"
      ]
     },
     "execution_count": 8,
     "metadata": {},
     "output_type": "execute_result"
    }
   ],
   "source": [
    "model = ColumnEnsembleClassifier([\n",
    "    # (\n",
    "    #     'knn',\n",
    "    #     KNeighborsTimeSeriesClassifier(n_neighbors=5, distance='dtw'),\n",
    "    #     list(range(statistics.shape[1]))\n",
    "    # ),\n",
    "    # (\n",
    "    #     'Catch22_RF',\n",
    "    #     make_pipeline(RandomForestClassifier()),\n",
    "    #     list(range(statistics.shape[1]))\n",
    "    # ),\n",
    "    (\n",
    "        'ROCKET',\n",
    "        RocketClassifier(n_jobs=8, random_state=0),\n",
    "        list(range(statistics.shape[1]))\n",
    "        # [0]\n",
    "    ),\n",
    "])\n",
    "# model = MultiRandomForest(n_estimators=statistics.shape[1], random_state=0)\n",
    "\n",
    "def catch22_preprocessor(x_train: np.ndarray, x_test: np.ndarray):\n",
    "    catch22 = Catch22(n_jobs=8, replace_nans=True)\n",
    "    x_train_transformed = catch22.fit_transform(x_train).to_numpy()\n",
    "    x_test_transformed = catch22.transform(x_test).to_numpy()\n",
    "\n",
    "    return x_train_transformed, x_test_transformed\n",
    "\n",
    "metrics = cross_val_score(\n",
    "    data=statistics,\n",
    "    labels=labels,\n",
    "    person_idxs=person_idxs,\n",
    "    model=model,\n",
    "    metric=accuracy_score,\n",
    "    n_test_persons=3,\n",
    "    random_state=0,\n",
    "    train_score=False,\n",
    "    data_preprocessor=None\n",
    ")\n",
    "metrics"
   ]
  },
  {
   "cell_type": "code",
   "execution_count": null,
   "metadata": {},
   "outputs": [],
   "source": []
  }
 ],
 "metadata": {
  "kernelspec": {
   "display_name": "eeg",
   "language": "python",
   "name": "python3"
  },
  "language_info": {
   "codemirror_mode": {
    "name": "ipython",
    "version": 3
   },
   "file_extension": ".py",
   "mimetype": "text/x-python",
   "name": "python",
   "nbconvert_exporter": "python",
   "pygments_lexer": "ipython3",
   "version": "3.9.13 (main, Aug 25 2022, 23:51:50) [MSC v.1916 64 bit (AMD64)]"
  },
  "orig_nbformat": 4,
  "vscode": {
   "interpreter": {
    "hash": "ee1821b0ec3d0fa9d83a2a15bb6a001b25e3359f1f3de2ffa35fb21fe200eb48"
   }
  }
 },
 "nbformat": 4,
 "nbformat_minor": 2
}
