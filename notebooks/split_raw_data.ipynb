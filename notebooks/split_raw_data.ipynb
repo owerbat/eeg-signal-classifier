{
 "cells": [
  {
   "cell_type": "code",
   "execution_count": 4,
   "metadata": {},
   "outputs": [],
   "source": [
    "import os\n",
    "import numpy as np\n",
    "\n",
    "from eegsc.utils.path import get_data_path\n",
    "from eegsc.utils.io import read_raw"
   ]
  },
  {
   "cell_type": "code",
   "execution_count": 3,
   "metadata": {},
   "outputs": [],
   "source": [
    "data = read_raw(os.path.join(get_data_path(), 'raw', '1st_Day.mat'),\n",
    "                data_types=['left_real', 'right_real',\n",
    "                            'left_im1', 'right_im1',\n",
    "                            'left_im2', 'right_im2',\n",
    "                            'left_quasi', 'right_quasi'])"
   ]
  },
  {
   "cell_type": "code",
   "execution_count": 5,
   "metadata": {},
   "outputs": [],
   "source": [
    "np.save(os.path.join(get_data_path(), 'npy', 'raw.npy'), data)"
   ]
  },
  {
   "cell_type": "code",
   "execution_count": 6,
   "metadata": {},
   "outputs": [
    {
     "data": {
      "text/plain": [
       "dict"
      ]
     },
     "execution_count": 6,
     "metadata": {},
     "output_type": "execute_result"
    }
   ],
   "source": [
    "type(data)"
   ]
  },
  {
   "cell_type": "code",
   "execution_count": 7,
   "metadata": {},
   "outputs": [
    {
     "data": {
      "text/plain": [
       "dict_keys(['left_real', 'right_real', 'left_im1', 'right_im1', 'left_im2', 'right_im2', 'left_quasi', 'right_quasi'])"
      ]
     },
     "execution_count": 7,
     "metadata": {},
     "output_type": "execute_result"
    }
   ],
   "source": [
    "data.keys()"
   ]
  },
  {
   "cell_type": "code",
   "execution_count": 10,
   "metadata": {},
   "outputs": [
    {
     "name": "stdout",
     "output_type": "stream",
     "text": [
      "left_real\n",
      "right_real\n",
      "left_im1\n",
      "right_im1\n",
      "left_im2\n",
      "right_im2\n",
      "left_quasi\n",
      "right_quasi\n"
     ]
    }
   ],
   "source": [
    "for key, value in data.items():\n",
    "    print(key)\n",
    "    np.save(os.path.join(get_data_path(), 'npy', f'raw_{key}.npy'), {0: value})"
   ]
  },
  {
   "cell_type": "code",
   "execution_count": 12,
   "metadata": {},
   "outputs": [
    {
     "ename": "AttributeError",
     "evalue": "'numpy.ndarray' object has no attribute 'keys'",
     "output_type": "error",
     "traceback": [
      "\u001b[1;31m---------------------------------------------------------------------------\u001b[0m",
      "\u001b[1;31mAttributeError\u001b[0m                            Traceback (most recent call last)",
      "Cell \u001b[1;32mIn [12], line 2\u001b[0m\n\u001b[0;32m      1\u001b[0m tmp \u001b[39m=\u001b[39m np\u001b[39m.\u001b[39mload(os\u001b[39m.\u001b[39mpath\u001b[39m.\u001b[39mjoin(get_data_path(), \u001b[39m'\u001b[39m\u001b[39mnpy\u001b[39m\u001b[39m'\u001b[39m, \u001b[39m'\u001b[39m\u001b[39mraw_left_real.npy\u001b[39m\u001b[39m'\u001b[39m), allow_pickle\u001b[39m=\u001b[39m\u001b[39mTrue\u001b[39;00m)\n\u001b[1;32m----> 2\u001b[0m tmp\u001b[39m.\u001b[39mkeys()\n",
      "\u001b[1;31mAttributeError\u001b[0m: 'numpy.ndarray' object has no attribute 'keys'"
     ]
    }
   ],
   "source": [
    "tmp = np.load(os.path.join(get_data_path(), 'npy', 'raw_left_real.npy'), allow_pickle=True)"
   ]
  },
  {
   "cell_type": "code",
   "execution_count": 17,
   "metadata": {},
   "outputs": [
    {
     "data": {
      "text/plain": [
       "(     person_idx  trial_idx\n",
       " 0             0          0\n",
       " 1             0          1\n",
       " 2             0          2\n",
       " 3             0          3\n",
       " 4             0          4\n",
       " ..          ...        ...\n",
       " 278          14         14\n",
       " 279          14         15\n",
       " 280          14         16\n",
       " 281          14         17\n",
       " 282          14         18\n",
       " \n",
       " [283 rows x 2 columns],\n",
       " array([[0.   , 0.001, 0.002, ...,   nan,   nan,   nan],\n",
       "        [0.   , 0.001, 0.002, ...,   nan,   nan,   nan],\n",
       "        [0.   , 0.001, 0.002, ...,   nan,   nan,   nan],\n",
       "        ...,\n",
       "        [0.   , 0.001, 0.002, ...,   nan,   nan,   nan],\n",
       "        [0.   , 0.001, 0.002, ...,   nan,   nan,   nan],\n",
       "        [0.   , 0.001, 0.002, ...,   nan,   nan,   nan]]),\n",
       " array([[[-1.03598653e-05, -1.98608647e-05, -2.76844564e-05, ...,\n",
       "                      nan,             nan,             nan],\n",
       "         [ 2.68916453e-06,  4.88606881e-06,  6.58706949e-06, ...,\n",
       "                      nan,             nan,             nan],\n",
       "         [ 4.45149519e-06,  2.49801333e-06,  1.00598444e-06, ...,\n",
       "                      nan,             nan,             nan],\n",
       "         ...,\n",
       "         [ 8.04644869e-06,  5.55589593e-06,  3.50603365e-06, ...,\n",
       "                      nan,             nan,             nan],\n",
       "         [ 5.76120403e-06,  4.68144777e-06,  3.82736452e-06, ...,\n",
       "                      nan,             nan,             nan],\n",
       "         [ 1.21524041e-06, -4.03222374e-08, -1.05063302e-06, ...,\n",
       "                      nan,             nan,             nan]],\n",
       " \n",
       "        [[-4.33810015e-06,  1.61649840e-06,  6.71507523e-06, ...,\n",
       "                      nan,             nan,             nan],\n",
       "         [ 6.91485686e-06,  9.47429400e-06,  1.14792974e-05, ...,\n",
       "                      nan,             nan,             nan],\n",
       "         [ 2.69179361e-06,  1.56997000e-06,  7.00017543e-07, ...,\n",
       "                      nan,             nan,             nan],\n",
       "         ...,\n",
       "         [ 4.83185452e-06, -1.52594646e-06, -6.98194817e-06, ...,\n",
       "                      nan,             nan,             nan],\n",
       "         [ 2.22201548e-06, -3.44965090e-06, -8.18259617e-06, ...,\n",
       "                      nan,             nan,             nan],\n",
       "         [ 2.37815020e-06, -5.64885625e-07, -2.84657056e-06, ...,\n",
       "                      nan,             nan,             nan]],\n",
       " \n",
       "        [[ 3.52773897e-06,  5.10656616e-06,  6.47594099e-06, ...,\n",
       "                      nan,             nan,             nan],\n",
       "         [-4.26945638e-06, -3.95417392e-06, -3.86711795e-06, ...,\n",
       "                      nan,             nan,             nan],\n",
       "         [ 2.17105747e-06, -2.83586174e-07, -2.36758876e-06, ...,\n",
       "                      nan,             nan,             nan],\n",
       "         ...,\n",
       "         [-4.52725271e-06, -4.36146781e-06, -3.96817885e-06, ...,\n",
       "                      nan,             nan,             nan],\n",
       "         [-3.60198072e-06, -3.31297741e-06, -2.86243497e-06, ...,\n",
       "                      nan,             nan,             nan],\n",
       "         [-2.00591461e-06, -2.28719795e-06, -2.37195869e-06, ...,\n",
       "                      nan,             nan,             nan]],\n",
       " \n",
       "        ...,\n",
       " \n",
       "        [[ 1.24796627e-06, -2.59176923e-06, -6.78320710e-06, ...,\n",
       "                      nan,             nan,             nan],\n",
       "         [ 3.20132595e-06,  5.78328929e-06,  7.94692460e-06, ...,\n",
       "                      nan,             nan,             nan],\n",
       "         [ 1.44790252e-06,  2.18665595e-06,  2.74460158e-06, ...,\n",
       "                      nan,             nan,             nan],\n",
       "         ...,\n",
       "         [-5.34689915e-06, -5.16154221e-06, -5.18390834e-06, ...,\n",
       "                      nan,             nan,             nan],\n",
       "         [-5.87144801e-06, -6.67719448e-06, -7.57516845e-06, ...,\n",
       "                      nan,             nan,             nan],\n",
       "         [-6.60204864e-06, -6.89833073e-06, -7.49100977e-06, ...,\n",
       "                      nan,             nan,             nan]],\n",
       " \n",
       "        [[-2.69979391e-06, -4.20018459e-06, -4.77564947e-06, ...,\n",
       "                      nan,             nan,             nan],\n",
       "         [-1.02955002e-06, -1.53463430e-06, -2.09765312e-06, ...,\n",
       "                      nan,             nan,             nan],\n",
       "         [ 1.36134366e-06,  5.34610243e-07, -1.03465369e-07, ...,\n",
       "                      nan,             nan,             nan],\n",
       "         ...,\n",
       "         [ 7.25216407e-07,  8.09294735e-07,  9.73575711e-07, ...,\n",
       "                      nan,             nan,             nan],\n",
       "         [-1.03369108e-07, -5.84813273e-07, -9.55412528e-07, ...,\n",
       "                      nan,             nan,             nan],\n",
       "         [ 4.95795503e-08, -1.21775570e-07, -2.88223050e-07, ...,\n",
       "                      nan,             nan,             nan]],\n",
       " \n",
       "        [[ 8.56784342e-06,  8.93672579e-06,  9.45982881e-06, ...,\n",
       "                      nan,             nan,             nan],\n",
       "         [ 1.19848208e-06, -3.82362566e-07, -1.88517790e-06, ...,\n",
       "                      nan,             nan,             nan],\n",
       "         [ 4.13979495e-06,  7.23925380e-06,  9.57649041e-06, ...,\n",
       "                      nan,             nan,             nan],\n",
       "         ...,\n",
       "         [-1.05854231e-06, -2.22105581e-06, -3.19450234e-06, ...,\n",
       "                      nan,             nan,             nan],\n",
       "         [-1.68366176e-06, -2.22705367e-06, -2.70543594e-06, ...,\n",
       "                      nan,             nan,             nan],\n",
       "         [-3.88121338e-06, -4.93196991e-06, -5.84365374e-06, ...,\n",
       "                      nan,             nan,             nan]]]))"
      ]
     },
     "execution_count": 17,
     "metadata": {},
     "output_type": "execute_result"
    }
   ],
   "source": [
    "tmp.item()[0]"
   ]
  },
  {
   "cell_type": "code",
   "execution_count": null,
   "metadata": {},
   "outputs": [],
   "source": []
  }
 ],
 "metadata": {
  "kernelspec": {
   "display_name": "eeg",
   "language": "python",
   "name": "python3"
  },
  "language_info": {
   "codemirror_mode": {
    "name": "ipython",
    "version": 3
   },
   "file_extension": ".py",
   "mimetype": "text/x-python",
   "name": "python",
   "nbconvert_exporter": "python",
   "pygments_lexer": "ipython3",
   "version": "3.9.13"
  },
  "orig_nbformat": 4,
  "vscode": {
   "interpreter": {
    "hash": "ee1821b0ec3d0fa9d83a2a15bb6a001b25e3359f1f3de2ffa35fb21fe200eb48"
   }
  }
 },
 "nbformat": 4,
 "nbformat_minor": 2
}
