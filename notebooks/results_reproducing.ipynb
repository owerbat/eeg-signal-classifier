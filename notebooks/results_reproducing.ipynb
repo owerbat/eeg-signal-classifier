{
 "cells": [
  {
   "cell_type": "code",
   "execution_count": 1,
   "metadata": {},
   "outputs": [],
   "source": [
    "import os\n",
    "import numpy as np\n",
    "from sklearn.ensemble import RandomForestClassifier\n",
    "from sklearn.metrics import accuracy_score\n",
    "\n",
    "from eegsc.preprocessing.filters import BandPassFilter\n",
    "from eegsc.preprocessing.spectrum import SpectrumTransformer\n",
    "from eegsc.utils.io import read_raw\n",
    "from eegsc.utils.path import get_data_path\n",
    "from eegsc.utils.experiments import create_spectrum_dataset\n",
    "from eegsc.utils.cross_val import train_test_split, cross_val_score"
   ]
  },
  {
   "cell_type": "code",
   "execution_count": 2,
   "metadata": {},
   "outputs": [],
   "source": [
    "start_time = 0\n",
    "signal_duration = 10 - start_time\n",
    "bandpass_filter = BandPassFilter(signal_duration=signal_duration)\n",
    "spectrum_transformer = SpectrumTransformer(psd_method='periodogram',\n",
    "                                           signal_duration=signal_duration)"
   ]
  },
  {
   "cell_type": "code",
   "execution_count": 3,
   "metadata": {},
   "outputs": [],
   "source": [
    "# spectrum_transformer.columns"
   ]
  },
  {
   "cell_type": "code",
   "execution_count": 4,
   "metadata": {},
   "outputs": [],
   "source": [
    "data = read_raw(os.path.join(get_data_path(), 'raw', '1st_Day.mat'),\n",
    "                # data_types=['left_real', 'right_real',\n",
    "                #             'left_im1', 'right_im1',\n",
    "                #             'left_im2', 'right_im2',\n",
    "                #             'left_quasi', 'right_quasi'])\n",
    "                # data_types=['left_quasi', 'right_quasi'])\n",
    "                # data_types=['left_im2', 'right_im2'])\n",
    "                # data_types=['left_im1', 'right_im1'])\n",
    "                data_types=['left_real', 'right_real'])"
   ]
  },
  {
   "cell_type": "code",
   "execution_count": 5,
   "metadata": {},
   "outputs": [
    {
     "data": {
      "text/plain": [
       "((569, 320), (569,), (569,))"
      ]
     },
     "execution_count": 5,
     "metadata": {},
     "output_type": "execute_result"
    }
   ],
   "source": [
    "statistics, labels, person_idxs = create_spectrum_dataset(\n",
    "    data,\n",
    "    bandpass_filter,\n",
    "    spectrum_transformer,\n",
    "    start_time=start_time,\n",
    "    is_len_equal=True\n",
    ")\n",
    "statistics.shape, labels.shape, person_idxs.shape"
   ]
  },
  {
   "cell_type": "code",
   "execution_count": 8,
   "metadata": {},
   "outputs": [
    {
     "name": "stderr",
     "output_type": "stream",
     "text": [
      " 20%|██        | 1/5 [00:03<00:12,  3.10s/it]"
     ]
    },
    {
     "name": "stdout",
     "output_type": "stream",
     "text": [
      "score [ 2 11  3]: 0.4827586206896552\n"
     ]
    },
    {
     "name": "stderr",
     "output_type": "stream",
     "text": [
      " 40%|████      | 2/5 [00:06<00:09,  3.09s/it]"
     ]
    },
    {
     "name": "stdout",
     "output_type": "stream",
     "text": [
      "score [10  0  4]: 0.5630252100840336\n"
     ]
    },
    {
     "name": "stderr",
     "output_type": "stream",
     "text": [
      " 60%|██████    | 3/5 [00:09<00:06,  3.00s/it]"
     ]
    },
    {
     "name": "stdout",
     "output_type": "stream",
     "text": [
      "score [ 7  5 14]: 0.5263157894736842\n"
     ]
    },
    {
     "name": "stderr",
     "output_type": "stream",
     "text": [
      " 80%|████████  | 4/5 [00:12<00:02,  2.97s/it]"
     ]
    },
    {
     "name": "stdout",
     "output_type": "stream",
     "text": [
      "score [12  6  9]: 0.48598130841121495\n"
     ]
    },
    {
     "name": "stderr",
     "output_type": "stream",
     "text": [
      "100%|██████████| 5/5 [00:14<00:00,  2.98s/it]"
     ]
    },
    {
     "name": "stdout",
     "output_type": "stream",
     "text": [
      "score [13  8  1]: 0.46017699115044247\n"
     ]
    },
    {
     "name": "stderr",
     "output_type": "stream",
     "text": [
      "\n"
     ]
    },
    {
     "data": {
      "text/html": [
       "<div>\n",
       "<style scoped>\n",
       "    .dataframe tbody tr th:only-of-type {\n",
       "        vertical-align: middle;\n",
       "    }\n",
       "\n",
       "    .dataframe tbody tr th {\n",
       "        vertical-align: top;\n",
       "    }\n",
       "\n",
       "    .dataframe thead th {\n",
       "        text-align: right;\n",
       "    }\n",
       "</style>\n",
       "<table border=\"1\" class=\"dataframe\">\n",
       "  <thead>\n",
       "    <tr style=\"text-align: right;\">\n",
       "      <th></th>\n",
       "      <th>test_persons</th>\n",
       "      <th>train_metrics</th>\n",
       "      <th>test_metrics</th>\n",
       "    </tr>\n",
       "  </thead>\n",
       "  <tbody>\n",
       "    <tr>\n",
       "      <th>0</th>\n",
       "      <td>[2, 11, 3]</td>\n",
       "      <td>1.0</td>\n",
       "      <td>0.482759</td>\n",
       "    </tr>\n",
       "    <tr>\n",
       "      <th>1</th>\n",
       "      <td>[10, 0, 4]</td>\n",
       "      <td>1.0</td>\n",
       "      <td>0.563025</td>\n",
       "    </tr>\n",
       "    <tr>\n",
       "      <th>2</th>\n",
       "      <td>[7, 5, 14]</td>\n",
       "      <td>1.0</td>\n",
       "      <td>0.526316</td>\n",
       "    </tr>\n",
       "    <tr>\n",
       "      <th>3</th>\n",
       "      <td>[12, 6, 9]</td>\n",
       "      <td>1.0</td>\n",
       "      <td>0.485981</td>\n",
       "    </tr>\n",
       "    <tr>\n",
       "      <th>4</th>\n",
       "      <td>[13, 8, 1]</td>\n",
       "      <td>1.0</td>\n",
       "      <td>0.460177</td>\n",
       "    </tr>\n",
       "  </tbody>\n",
       "</table>\n",
       "</div>"
      ],
      "text/plain": [
       "  test_persons  train_metrics  test_metrics\n",
       "0   [2, 11, 3]            1.0      0.482759\n",
       "1   [10, 0, 4]            1.0      0.563025\n",
       "2   [7, 5, 14]            1.0      0.526316\n",
       "3   [12, 6, 9]            1.0      0.485981\n",
       "4   [13, 8, 1]            1.0      0.460177"
      ]
     },
     "execution_count": 8,
     "metadata": {},
     "output_type": "execute_result"
    }
   ],
   "source": [
    "metrics = cross_val_score(data=statistics,\n",
    "                          labels=labels,\n",
    "                          person_idxs=person_idxs,\n",
    "                          model=RandomForestClassifier(n_estimators=1000),\n",
    "                          metric=accuracy_score,\n",
    "                          n_test_persons=3,\n",
    "                          random_state=0)\n",
    "metrics"
   ]
  },
  {
   "cell_type": "code",
   "execution_count": null,
   "metadata": {},
   "outputs": [],
   "source": []
  }
 ],
 "metadata": {
  "kernelspec": {
   "display_name": "eeg",
   "language": "python",
   "name": "python3"
  },
  "language_info": {
   "codemirror_mode": {
    "name": "ipython",
    "version": 3
   },
   "file_extension": ".py",
   "mimetype": "text/x-python",
   "name": "python",
   "nbconvert_exporter": "python",
   "pygments_lexer": "ipython3",
   "version": "3.9.13"
  },
  "orig_nbformat": 4,
  "vscode": {
   "interpreter": {
    "hash": "ee1821b0ec3d0fa9d83a2a15bb6a001b25e3359f1f3de2ffa35fb21fe200eb48"
   }
  }
 },
 "nbformat": 4,
 "nbformat_minor": 2
}
