{
 "cells": [
  {
   "cell_type": "code",
   "execution_count": 1,
   "metadata": {},
   "outputs": [],
   "source": [
    "import os\n",
    "import numpy as np\n",
    "import pandas as pd\n",
    "import torch\n",
    "import torch.nn as nn\n",
    "from sklearn.model_selection import train_test_split\n",
    "from sklearn.metrics import accuracy_score\n",
    "\n",
    "from eegsc.ml.gru import GRUNet, train_gru, predict_gru\n",
    "from eegsc.preprocessing.filters import BandPassFilter\n",
    "from eegsc.preprocessing.spectrum import SpectrumTransformer\n",
    "from eegsc.utils.io import read_raw\n",
    "from eegsc.utils.path import get_data_path\n",
    "from eegsc.utils.experiments import create_spectrum_dataset"
   ]
  },
  {
   "cell_type": "code",
   "execution_count": 2,
   "metadata": {},
   "outputs": [],
   "source": [
    "data = read_raw(os.path.join(get_data_path(), 'raw', '1st_Day.mat'),\n",
    "                # data_types=['left_real', 'right_real',\n",
    "                #             'left_im1', 'right_im1',\n",
    "                #             'left_im2', 'right_im2',\n",
    "                #             'left_quasi', 'right_quasi'])\n",
    "                # data_types=['left_quasi', 'right_quasi'])\n",
    "                # data_types=['left_im2', 'right_im2'])\n",
    "                # data_types=['left_im1', 'right_im1'])\n",
    "                data_types=['left_real', 'right_real'])"
   ]
  },
  {
   "cell_type": "code",
   "execution_count": 4,
   "metadata": {},
   "outputs": [
    {
     "data": {
      "text/plain": [
       "((569, 192, 10095), (569,))"
      ]
     },
     "execution_count": 4,
     "metadata": {},
     "output_type": "execute_result"
    }
   ],
   "source": [
    "bandpass_filter = BandPassFilter()\n",
    "spectrum_transformer = SpectrumTransformer(psd_method='periodogram')\n",
    "seq_data, labels = create_spectrum_dataset(data,\n",
    "                                           bandpass_filter,\n",
    "                                           spectrum_transformer,\n",
    "                                           compute_stat=False,\n",
    "                                           save=False)\n",
    "seq_data.shape, labels.shape"
   ]
  },
  {
   "cell_type": "code",
   "execution_count": 5,
   "metadata": {},
   "outputs": [
    {
     "data": {
      "text/plain": [
       "((455, 192, 10095), (114, 192, 10095))"
      ]
     },
     "execution_count": 5,
     "metadata": {},
     "output_type": "execute_result"
    }
   ],
   "source": [
    "x_train, x_test, y_train, y_test = train_test_split(\n",
    "    seq_data, labels, test_size=0.2, random_state=0)\n",
    "x_train.shape, x_test.shape"
   ]
  },
  {
   "cell_type": "code",
   "execution_count": 7,
   "metadata": {},
   "outputs": [],
   "source": [
    "model = GRUNet(input_size=x_train.shape[1],\n",
    "               hidden_size=32,\n",
    "               n_layers=1,\n",
    "               n_classes=np.unique(labels).shape[0])"
   ]
  },
  {
   "cell_type": "code",
   "execution_count": 8,
   "metadata": {},
   "outputs": [
    {
     "name": "stdout",
     "output_type": "stream",
     "text": [
      "Epoch 1 | loss = 317.2737897336483, accuracy = 0.46153846153846156\n",
      "Epoch 2 | loss = 316.4888388514519, accuracy = 0.45054945054945056\n",
      "Epoch 3 | loss = 316.1366795897484, accuracy = 0.44395604395604393\n",
      "Epoch 4 | loss = 315.9732453227043, accuracy = 0.45274725274725275\n",
      "Epoch 5 | loss = 315.83587038517, accuracy = 0.45494505494505494\n",
      "Epoch 6 | loss = 315.8270699977875, accuracy = 0.44175824175824174\n",
      "Epoch 7 | loss = 315.85170233249664, accuracy = 0.45274725274725275\n",
      "Epoch 8 | loss = 315.74256205558777, accuracy = 0.4461538461538462\n",
      "Epoch 9 | loss = 315.79726642370224, accuracy = 0.45054945054945056\n",
      "Epoch 10 | loss = 315.8255853652954, accuracy = 0.46153846153846156\n"
     ]
    },
    {
     "ename": "KeyboardInterrupt",
     "evalue": "",
     "output_type": "error",
     "traceback": [
      "\u001b[1;31m---------------------------------------------------------------------------\u001b[0m",
      "\u001b[1;31mKeyboardInterrupt\u001b[0m                         Traceback (most recent call last)",
      "Cell \u001b[1;32mIn [8], line 3\u001b[0m\n\u001b[0;32m      1\u001b[0m criterion \u001b[38;5;241m=\u001b[39m nn\u001b[38;5;241m.\u001b[39mNLLLoss()\n\u001b[0;32m      2\u001b[0m optimizer \u001b[38;5;241m=\u001b[39m torch\u001b[38;5;241m.\u001b[39moptim\u001b[38;5;241m.\u001b[39mAdam(model\u001b[38;5;241m.\u001b[39mparameters(), lr\u001b[38;5;241m=\u001b[39m\u001b[38;5;241m.001\u001b[39m)\n\u001b[1;32m----> 3\u001b[0m model \u001b[38;5;241m=\u001b[39m train_gru(model, x_train, y_train, criterion, optimizer, n_epochs\u001b[38;5;241m=\u001b[39m\u001b[38;5;241m20\u001b[39m)\n",
      "File \u001b[1;32mc:\\users\\nikti\\projects\\eeg-signal-classifier\\eegsc\\ml\\gru.py:58\u001b[0m, in \u001b[0;36mtrain_gru\u001b[1;34m(model, x_train, y_train, criterion, optimizer, n_epochs)\u001b[0m\n\u001b[0;32m     55\u001b[0m loss \u001b[39m=\u001b[39m criterion(out, label)\n\u001b[0;32m     57\u001b[0m optimizer\u001b[39m.\u001b[39mzero_grad()\n\u001b[1;32m---> 58\u001b[0m loss\u001b[39m.\u001b[39;49mbackward()\n\u001b[0;32m     59\u001b[0m optimizer\u001b[39m.\u001b[39mstep()\n\u001b[0;32m     61\u001b[0m running_loss \u001b[39m+\u001b[39m\u001b[39m=\u001b[39m loss\u001b[39m.\u001b[39mitem()\n",
      "File \u001b[1;32mc:\\Users\\nikti\\miniconda3\\envs\\eeg\\lib\\site-packages\\torch\\_tensor.py:396\u001b[0m, in \u001b[0;36mTensor.backward\u001b[1;34m(self, gradient, retain_graph, create_graph, inputs)\u001b[0m\n\u001b[0;32m    387\u001b[0m \u001b[39mif\u001b[39;00m has_torch_function_unary(\u001b[39mself\u001b[39m):\n\u001b[0;32m    388\u001b[0m     \u001b[39mreturn\u001b[39;00m handle_torch_function(\n\u001b[0;32m    389\u001b[0m         Tensor\u001b[39m.\u001b[39mbackward,\n\u001b[0;32m    390\u001b[0m         (\u001b[39mself\u001b[39m,),\n\u001b[1;32m   (...)\u001b[0m\n\u001b[0;32m    394\u001b[0m         create_graph\u001b[39m=\u001b[39mcreate_graph,\n\u001b[0;32m    395\u001b[0m         inputs\u001b[39m=\u001b[39minputs)\n\u001b[1;32m--> 396\u001b[0m torch\u001b[39m.\u001b[39;49mautograd\u001b[39m.\u001b[39;49mbackward(\u001b[39mself\u001b[39;49m, gradient, retain_graph, create_graph, inputs\u001b[39m=\u001b[39;49minputs)\n",
      "File \u001b[1;32mc:\\Users\\nikti\\miniconda3\\envs\\eeg\\lib\\site-packages\\torch\\autograd\\__init__.py:173\u001b[0m, in \u001b[0;36mbackward\u001b[1;34m(tensors, grad_tensors, retain_graph, create_graph, grad_variables, inputs)\u001b[0m\n\u001b[0;32m    168\u001b[0m     retain_graph \u001b[39m=\u001b[39m create_graph\n\u001b[0;32m    170\u001b[0m \u001b[39m# The reason we repeat same the comment below is that\u001b[39;00m\n\u001b[0;32m    171\u001b[0m \u001b[39m# some Python versions print out the first line of a multi-line function\u001b[39;00m\n\u001b[0;32m    172\u001b[0m \u001b[39m# calls in the traceback and some print out the last line\u001b[39;00m\n\u001b[1;32m--> 173\u001b[0m Variable\u001b[39m.\u001b[39;49m_execution_engine\u001b[39m.\u001b[39;49mrun_backward(  \u001b[39m# Calls into the C++ engine to run the backward pass\u001b[39;49;00m\n\u001b[0;32m    174\u001b[0m     tensors, grad_tensors_, retain_graph, create_graph, inputs,\n\u001b[0;32m    175\u001b[0m     allow_unreachable\u001b[39m=\u001b[39;49m\u001b[39mTrue\u001b[39;49;00m, accumulate_grad\u001b[39m=\u001b[39;49m\u001b[39mTrue\u001b[39;49;00m)\n",
      "\u001b[1;31mKeyboardInterrupt\u001b[0m: "
     ]
    }
   ],
   "source": [
    "criterion = nn.NLLLoss()\n",
    "optimizer = torch.optim.Adam(model.parameters(), lr=.001, weight_decay=1e-3)\n",
    "model = train_gru(model, x_train, y_train, criterion, optimizer, n_epochs=20)"
   ]
  },
  {
   "cell_type": "code",
   "execution_count": 6,
   "metadata": {},
   "outputs": [],
   "source": [
    "np.save(os.path.join(get_data_path(), 'train_test', 'x_train.npy'), x_train)\n",
    "np.save(os.path.join(get_data_path(), 'train_test', 'x_test.npy'), x_test)\n",
    "np.save(os.path.join(get_data_path(), 'train_test', 'y_train.npy'), y_train)\n",
    "np.save(os.path.join(get_data_path(), 'train_test', 'y_test.npy'), y_test)"
   ]
  },
  {
   "cell_type": "code",
   "execution_count": null,
   "metadata": {},
   "outputs": [],
   "source": []
  }
 ],
 "metadata": {
  "kernelspec": {
   "display_name": "Python 3.9.13 ('eeg')",
   "language": "python",
   "name": "python3"
  },
  "language_info": {
   "codemirror_mode": {
    "name": "ipython",
    "version": 3
   },
   "file_extension": ".py",
   "mimetype": "text/x-python",
   "name": "python",
   "nbconvert_exporter": "python",
   "pygments_lexer": "ipython3",
   "version": "3.9.13"
  },
  "orig_nbformat": 4,
  "vscode": {
   "interpreter": {
    "hash": "ee1821b0ec3d0fa9d83a2a15bb6a001b25e3359f1f3de2ffa35fb21fe200eb48"
   }
  }
 },
 "nbformat": 4,
 "nbformat_minor": 2
}
